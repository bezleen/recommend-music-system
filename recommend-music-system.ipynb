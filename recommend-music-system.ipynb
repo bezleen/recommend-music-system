{
  "cells": [
    {
      "cell_type": "markdown",
      "metadata": {
        "id": "gv0bvC3y8QDH"
      },
      "source": [
        "# Bối cảnh và định nghĩa bài toán"
      ]
    },
    {
      "cell_type": "markdown",
      "source": [
        "Đề xuất các bài nhạc tương tự bài nhạc đầu vào \n",
        "Input: 1 bài nhạc\n",
        "Output: n bài nhạc tương tự (n tự chọn)"
      ],
      "metadata": {
        "id": "5u9yLgR1hxx7"
      }
    },
    {
      "cell_type": "markdown",
      "metadata": {
        "id": "MpIdIb4i8YHc"
      },
      "source": [
        "# Dữ liệu"
      ]
    },
    {
      "cell_type": "markdown",
      "metadata": {
        "id": "Xm6x7M6f8ee2"
      },
      "source": [
        "https://www.kaggle.com/zaheenhamidani/ultimate-spotify-tracks-db"
      ]
    },
    {
      "cell_type": "markdown",
      "metadata": {
        "id": "HIuG_pM683X3"
      },
      "source": [
        "# Khám phá dữ liệu\n"
      ]
    },
    {
      "cell_type": "markdown",
      "metadata": {
        "id": "Gm5-6LGH9Dis"
      },
      "source": [
        "Mount drive"
      ]
    },
    {
      "cell_type": "code",
      "execution_count": null,
      "metadata": {
        "colab": {
          "base_uri": "https://localhost:8080/"
        },
        "id": "sJVQAt65CEmG",
        "outputId": "ab7ff37f-647e-45a1-a320-22642d9da5a5"
      },
      "outputs": [
        {
          "name": "stdout",
          "output_type": "stream",
          "text": [
            "Drive already mounted at /content/drive; to attempt to forcibly remount, call drive.mount(\"/content/drive\", force_remount=True).\n"
          ]
        }
      ],
      "source": [
        "from google.colab import drive\n",
        "drive.mount('/content/drive')"
      ]
    },
    {
      "cell_type": "markdown",
      "metadata": {
        "id": "34xbcQz577N4"
      },
      "source": [
        " Import dataset"
      ]
    },
    {
      "cell_type": "code",
      "execution_count": null,
      "metadata": {
        "id": "VWZWB7b0B1Km"
      },
      "outputs": [],
      "source": [
        "import pandas as pd\n",
        "data=pd.read_csv('drive/My Drive/dataset/SpotifyFeatures.csv')"
      ]
    },
    {
      "cell_type": "markdown",
      "metadata": {
        "id": "evJHzc5O70I-"
      },
      "source": [
        "5 dòng dữ liệu đầu tiên"
      ]
    },
    {
      "cell_type": "code",
      "execution_count": null,
      "metadata": {
        "colab": {
          "base_uri": "https://localhost:8080/",
          "height": 285
        },
        "id": "Iu5L1CLGCRN1",
        "outputId": "9c7dd66a-6492-411f-866d-ce198d09aaea"
      },
      "outputs": [
        {
          "output_type": "execute_result",
          "data": {
            "text/html": [
              "\n",
              "  <div id=\"df-16faddaf-2a15-4b9f-885d-eee6dd3b5f30\">\n",
              "    <div class=\"colab-df-container\">\n",
              "      <div>\n",
              "<style scoped>\n",
              "    .dataframe tbody tr th:only-of-type {\n",
              "        vertical-align: middle;\n",
              "    }\n",
              "\n",
              "    .dataframe tbody tr th {\n",
              "        vertical-align: top;\n",
              "    }\n",
              "\n",
              "    .dataframe thead th {\n",
              "        text-align: right;\n",
              "    }\n",
              "</style>\n",
              "<table border=\"1\" class=\"dataframe\">\n",
              "  <thead>\n",
              "    <tr style=\"text-align: right;\">\n",
              "      <th></th>\n",
              "      <th>genre</th>\n",
              "      <th>artist_name</th>\n",
              "      <th>track_name</th>\n",
              "      <th>track_id</th>\n",
              "      <th>popularity</th>\n",
              "      <th>acousticness</th>\n",
              "      <th>danceability</th>\n",
              "      <th>duration_ms</th>\n",
              "      <th>energy</th>\n",
              "      <th>instrumentalness</th>\n",
              "      <th>key</th>\n",
              "      <th>liveness</th>\n",
              "      <th>loudness</th>\n",
              "      <th>mode</th>\n",
              "      <th>speechiness</th>\n",
              "      <th>tempo</th>\n",
              "      <th>time_signature</th>\n",
              "      <th>valence</th>\n",
              "    </tr>\n",
              "  </thead>\n",
              "  <tbody>\n",
              "    <tr>\n",
              "      <th>0</th>\n",
              "      <td>Movie</td>\n",
              "      <td>Henri Salvador</td>\n",
              "      <td>C'est beau de faire un Show</td>\n",
              "      <td>0BRjO6ga9RKCKjfDqeFgWV</td>\n",
              "      <td>0</td>\n",
              "      <td>0.611</td>\n",
              "      <td>0.389</td>\n",
              "      <td>99373</td>\n",
              "      <td>0.910</td>\n",
              "      <td>0.000</td>\n",
              "      <td>C#</td>\n",
              "      <td>0.3460</td>\n",
              "      <td>-1.828</td>\n",
              "      <td>Major</td>\n",
              "      <td>0.0525</td>\n",
              "      <td>166.969</td>\n",
              "      <td>4/4</td>\n",
              "      <td>0.814</td>\n",
              "    </tr>\n",
              "    <tr>\n",
              "      <th>1</th>\n",
              "      <td>Movie</td>\n",
              "      <td>Martin &amp; les fées</td>\n",
              "      <td>Perdu d'avance (par Gad Elmaleh)</td>\n",
              "      <td>0BjC1NfoEOOusryehmNudP</td>\n",
              "      <td>1</td>\n",
              "      <td>0.246</td>\n",
              "      <td>0.590</td>\n",
              "      <td>137373</td>\n",
              "      <td>0.737</td>\n",
              "      <td>0.000</td>\n",
              "      <td>F#</td>\n",
              "      <td>0.1510</td>\n",
              "      <td>-5.559</td>\n",
              "      <td>Minor</td>\n",
              "      <td>0.0868</td>\n",
              "      <td>174.003</td>\n",
              "      <td>4/4</td>\n",
              "      <td>0.816</td>\n",
              "    </tr>\n",
              "    <tr>\n",
              "      <th>2</th>\n",
              "      <td>Movie</td>\n",
              "      <td>Joseph Williams</td>\n",
              "      <td>Don't Let Me Be Lonely Tonight</td>\n",
              "      <td>0CoSDzoNIKCRs124s9uTVy</td>\n",
              "      <td>3</td>\n",
              "      <td>0.952</td>\n",
              "      <td>0.663</td>\n",
              "      <td>170267</td>\n",
              "      <td>0.131</td>\n",
              "      <td>0.000</td>\n",
              "      <td>C</td>\n",
              "      <td>0.1030</td>\n",
              "      <td>-13.879</td>\n",
              "      <td>Minor</td>\n",
              "      <td>0.0362</td>\n",
              "      <td>99.488</td>\n",
              "      <td>5/4</td>\n",
              "      <td>0.368</td>\n",
              "    </tr>\n",
              "    <tr>\n",
              "      <th>3</th>\n",
              "      <td>Movie</td>\n",
              "      <td>Henri Salvador</td>\n",
              "      <td>Dis-moi Monsieur Gordon Cooper</td>\n",
              "      <td>0Gc6TVm52BwZD07Ki6tIvf</td>\n",
              "      <td>0</td>\n",
              "      <td>0.703</td>\n",
              "      <td>0.240</td>\n",
              "      <td>152427</td>\n",
              "      <td>0.326</td>\n",
              "      <td>0.000</td>\n",
              "      <td>C#</td>\n",
              "      <td>0.0985</td>\n",
              "      <td>-12.178</td>\n",
              "      <td>Major</td>\n",
              "      <td>0.0395</td>\n",
              "      <td>171.758</td>\n",
              "      <td>4/4</td>\n",
              "      <td>0.227</td>\n",
              "    </tr>\n",
              "    <tr>\n",
              "      <th>4</th>\n",
              "      <td>Movie</td>\n",
              "      <td>Fabien Nataf</td>\n",
              "      <td>Ouverture</td>\n",
              "      <td>0IuslXpMROHdEPvSl1fTQK</td>\n",
              "      <td>4</td>\n",
              "      <td>0.950</td>\n",
              "      <td>0.331</td>\n",
              "      <td>82625</td>\n",
              "      <td>0.225</td>\n",
              "      <td>0.123</td>\n",
              "      <td>F</td>\n",
              "      <td>0.2020</td>\n",
              "      <td>-21.150</td>\n",
              "      <td>Major</td>\n",
              "      <td>0.0456</td>\n",
              "      <td>140.576</td>\n",
              "      <td>4/4</td>\n",
              "      <td>0.390</td>\n",
              "    </tr>\n",
              "  </tbody>\n",
              "</table>\n",
              "</div>\n",
              "      <button class=\"colab-df-convert\" onclick=\"convertToInteractive('df-16faddaf-2a15-4b9f-885d-eee6dd3b5f30')\"\n",
              "              title=\"Convert this dataframe to an interactive table.\"\n",
              "              style=\"display:none;\">\n",
              "        \n",
              "  <svg xmlns=\"http://www.w3.org/2000/svg\" height=\"24px\"viewBox=\"0 0 24 24\"\n",
              "       width=\"24px\">\n",
              "    <path d=\"M0 0h24v24H0V0z\" fill=\"none\"/>\n",
              "    <path d=\"M18.56 5.44l.94 2.06.94-2.06 2.06-.94-2.06-.94-.94-2.06-.94 2.06-2.06.94zm-11 1L8.5 8.5l.94-2.06 2.06-.94-2.06-.94L8.5 2.5l-.94 2.06-2.06.94zm10 10l.94 2.06.94-2.06 2.06-.94-2.06-.94-.94-2.06-.94 2.06-2.06.94z\"/><path d=\"M17.41 7.96l-1.37-1.37c-.4-.4-.92-.59-1.43-.59-.52 0-1.04.2-1.43.59L10.3 9.45l-7.72 7.72c-.78.78-.78 2.05 0 2.83L4 21.41c.39.39.9.59 1.41.59.51 0 1.02-.2 1.41-.59l7.78-7.78 2.81-2.81c.8-.78.8-2.07 0-2.86zM5.41 20L4 18.59l7.72-7.72 1.47 1.35L5.41 20z\"/>\n",
              "  </svg>\n",
              "      </button>\n",
              "      \n",
              "  <style>\n",
              "    .colab-df-container {\n",
              "      display:flex;\n",
              "      flex-wrap:wrap;\n",
              "      gap: 12px;\n",
              "    }\n",
              "\n",
              "    .colab-df-convert {\n",
              "      background-color: #E8F0FE;\n",
              "      border: none;\n",
              "      border-radius: 50%;\n",
              "      cursor: pointer;\n",
              "      display: none;\n",
              "      fill: #1967D2;\n",
              "      height: 32px;\n",
              "      padding: 0 0 0 0;\n",
              "      width: 32px;\n",
              "    }\n",
              "\n",
              "    .colab-df-convert:hover {\n",
              "      background-color: #E2EBFA;\n",
              "      box-shadow: 0px 1px 2px rgba(60, 64, 67, 0.3), 0px 1px 3px 1px rgba(60, 64, 67, 0.15);\n",
              "      fill: #174EA6;\n",
              "    }\n",
              "\n",
              "    [theme=dark] .colab-df-convert {\n",
              "      background-color: #3B4455;\n",
              "      fill: #D2E3FC;\n",
              "    }\n",
              "\n",
              "    [theme=dark] .colab-df-convert:hover {\n",
              "      background-color: #434B5C;\n",
              "      box-shadow: 0px 1px 3px 1px rgba(0, 0, 0, 0.15);\n",
              "      filter: drop-shadow(0px 1px 2px rgba(0, 0, 0, 0.3));\n",
              "      fill: #FFFFFF;\n",
              "    }\n",
              "  </style>\n",
              "\n",
              "      <script>\n",
              "        const buttonEl =\n",
              "          document.querySelector('#df-16faddaf-2a15-4b9f-885d-eee6dd3b5f30 button.colab-df-convert');\n",
              "        buttonEl.style.display =\n",
              "          google.colab.kernel.accessAllowed ? 'block' : 'none';\n",
              "\n",
              "        async function convertToInteractive(key) {\n",
              "          const element = document.querySelector('#df-16faddaf-2a15-4b9f-885d-eee6dd3b5f30');\n",
              "          const dataTable =\n",
              "            await google.colab.kernel.invokeFunction('convertToInteractive',\n",
              "                                                     [key], {});\n",
              "          if (!dataTable) return;\n",
              "\n",
              "          const docLinkHtml = 'Like what you see? Visit the ' +\n",
              "            '<a target=\"_blank\" href=https://colab.research.google.com/notebooks/data_table.ipynb>data table notebook</a>'\n",
              "            + ' to learn more about interactive tables.';\n",
              "          element.innerHTML = '';\n",
              "          dataTable['output_type'] = 'display_data';\n",
              "          await google.colab.output.renderOutput(dataTable, element);\n",
              "          const docLink = document.createElement('div');\n",
              "          docLink.innerHTML = docLinkHtml;\n",
              "          element.appendChild(docLink);\n",
              "        }\n",
              "      </script>\n",
              "    </div>\n",
              "  </div>\n",
              "  "
            ],
            "text/plain": [
              "   genre        artist_name  ... time_signature valence\n",
              "0  Movie     Henri Salvador  ...            4/4   0.814\n",
              "1  Movie  Martin & les fées  ...            4/4   0.816\n",
              "2  Movie    Joseph Williams  ...            5/4   0.368\n",
              "3  Movie     Henri Salvador  ...            4/4   0.227\n",
              "4  Movie       Fabien Nataf  ...            4/4   0.390\n",
              "\n",
              "[5 rows x 18 columns]"
            ]
          },
          "metadata": {},
          "execution_count": 40
        }
      ],
      "source": [
        "data.head(5)"
      ]
    },
    {
      "cell_type": "markdown",
      "metadata": {
        "id": "FYF6J2_0ap9V"
      },
      "source": [
        " 0.   genre             \n",
        " >Thể loại nhạc\n",
        " 1.   artist_name       *\n",
        " >Tên ca sĩ\n",
        " 2.   track_name        *\n",
        " >tên track \n",
        " 3.   track_id          *\n",
        " >id\n",
        " 4.   popularity         \n",
        " >độ phổ biến\n",
        " 5.   acousticness      \n",
        "> Một thước đo độ tin cậy từ 0,0 đến 1,0 xem bản nhạc có phải là âm thanh hay không. 1,0 thể hiện độ tin cậy cao, bài hát là âm thanh.\n",
        " 6.   danceability      \n",
        "> Khả năng khiêu vũ mô tả mức độ phù hợp của một bản nhạc để khiêu vũ dựa trên sự kết hợp của các yếu tố âm nhạc bao gồm nhịp độ, độ ổn định nhịp, độ mạnh của nhịp và sự đều đặn tổng thể. Giá trị 0,0 là ít có thể nhảy nhất và 1,0 là dễ nhảy nhất.\n",
        " 7.   duration_ms\n",
        "> Thời lượng của bản nhạc tính bằng mili giây.\n",
        " 8.   energy\n",
        "> Năng lượng là một thước đo từ 0,0 đến 1,0 và đại diện cho một thước đo cảm nhận về cường độ và hoạt động. Thông thường, các bản nhạc tràn đầy năng lượng cảm thấy nhanh, ồn ào và ồn ào. Ví dụ, death metal có năng lượng cao, trong khi khúc dạo đầu của Bach cho điểm thấp trên thang điểm. Các đặc điểm cảm nhận đóng góp vào thuộc tính này bao gồm dải động, độ lớn cảm nhận được, âm sắc, tốc độ khởi phát và entropy chung.\n",
        " 9.   instrumentalness  \n",
        "> Dự đoán xem một bản nhạc không chứa giọng hát hay không. Âm thanh \"ooh\" và \"aah\" được coi như một công cụ trong ngữ cảnh này. Các bản nhạc rap hoặc lời nói rõ ràng là \"vocal\". Giá trị nhạc cụ càng gần 1,0 thì khả năng bản nhạc không chứa nội dung giọng hát càng cao. Giá trị trên 0,5 nhằm thể hiện các bản nhạc của nhạc cụ, nhưng độ tin cậy cao hơn khi giá trị tiến tới 1,0.\n",
        " 10.  key*\n",
        "> Chìa khóa của bản nhạc. Các số nguyên ánh xạ tới các cao độ bằng cách sử dụng ký hiệu Lớp cao độ tiêu chuẩn . Ví dụ: 0 = C, 1 = C♯ / D ♭, 2 = D, v.v. Nếu không có khóa nào được phát hiện, giá trị là -1.\n",
        " 11.  liveness\n",
        "> Phát hiện sự hiện diện của khán giả trong bản ghi âm. Giá trị độ sống cao hơn thể hiện xác suất bản nhạc được biểu diễn trực tiếp tăng lên. Giá trị trên 0,8 cung cấp khả năng lớn là bản nhạc đang hoạt động.\n",
        " 12.  loudness          \n",
        "> Độ lớn tổng thể của một bản nhạc tính bằng decibel (dB). Giá trị độ ồn được tính trung bình trên toàn bộ bản nhạc và rất hữu ích để so sánh độ ồn tương đối của các bản nhạc. Độ to là chất lượng của âm thanh, tương quan tâm lý chính của sức mạnh thể chất (biên độ). Giá trị thường nằm trong khoảng từ -60 đến 0 db.\n",
        " 13.  mode             \n",
        "> Chế độ cho biết thể thức (chính hoặc phụ) của một bản nhạc, loại thang âm mà từ đó nội dung du dương của nó được bắt nguồn. Chính đại diện là 1 và phụ là 0.\n",
        " 14.  speechiness       \n",
        "> Tốc độ phát hiện sự hiện diện của các từ được nói trong một bản nhạc. Bản ghi âm càng giống giọng nói độc quyền (ví dụ như chương trình trò chuyện, sách nói, thơ), thì giá trị thuộc tính càng gần với 1,0. Giá trị trên 0,66 mô tả các bản nhạc có thể được tạo hoàn toàn bằng lời nói. Giá trị từ 0,33 đến 0,66 mô tả các bản nhạc có thể chứa cả nhạc và lời nói, theo từng phần hoặc nhiều lớp, bao gồm cả các trường hợp như nhạc rap. Giá trị dưới 0,33 rất có thể đại diện cho âm nhạc và các bản nhạc không giống lời nói khác.\n",
        " 15.  tempo             \n",
        "> Tiến độ ước tính tổng thể của một bản nhạc tính bằng nhịp mỗi phút (BPM). Theo thuật ngữ âm nhạc, tempo là tốc độ hoặc nhịp độ của một đoạn nhạc nhất định và bắt nguồn trực tiếp từ thời lượng nhịp trung bình.\n",
        " 16.  time_signature    *\n",
        "> Một chữ ký thời gian ước tính. Chữ ký thời gian (mét) là một quy ước ký hiệu để xác định có bao nhiêu nhịp trong mỗi ô nhịp (hoặc thước đo). Chữ ký thời gian nằm trong khoảng từ 3 đến 7 cho biết các chữ ký thời gian là \"3/4\", đến \"7/4\".\n",
        " 17.  valence\n",
        "> Thước đo từ 0,0 đến 1,0 mô tả tính tích cực trong âm nhạc được truyền tải bởi một bản nhạc. Các bản nhạc có hóa trị cao nghe tích cực hơn (ví dụ: vui vẻ, phấn khởi, hưng phấn), trong khi các bản nhạc có hóa trị thấp âm thanh hơn (ví dụ: buồn, chán nản, tức giận)."
      ]
    },
    {
      "cell_type": "code",
      "execution_count": null,
      "metadata": {
        "colab": {
          "base_uri": "https://localhost:8080/"
        },
        "id": "YuHesOhi6ZJF",
        "outputId": "ee6a9c4d-a035-4c91-bbda-908b87d24dac"
      },
      "outputs": [
        {
          "data": {
            "text/plain": [
              "genre               0\n",
              "artist_name         0\n",
              "track_name          0\n",
              "track_id            0\n",
              "popularity          0\n",
              "acousticness        0\n",
              "danceability        0\n",
              "duration_ms         0\n",
              "energy              0\n",
              "instrumentalness    0\n",
              "key                 0\n",
              "liveness            0\n",
              "loudness            0\n",
              "mode                0\n",
              "speechiness         0\n",
              "tempo               0\n",
              "time_signature      0\n",
              "valence             0\n",
              "dtype: int64"
            ]
          },
          "execution_count": 5,
          "metadata": {},
          "output_type": "execute_result"
        }
      ],
      "source": [
        "data.isnull().sum()"
      ]
    },
    {
      "cell_type": "markdown",
      "metadata": {
        "id": "0N5tUDq_9N-u"
      },
      "source": [
        "Dữ liệu đầy đủ, không có thuộc tính nào bị thiếu dữ liệu"
      ]
    },
    {
      "cell_type": "code",
      "execution_count": null,
      "metadata": {
        "colab": {
          "base_uri": "https://localhost:8080/"
        },
        "id": "gS2jt7gFC9RC",
        "outputId": "1a86a158-62a4-4615-ae79-4b31be11e1b5"
      },
      "outputs": [
        {
          "data": {
            "text/plain": [
              "232725"
            ]
          },
          "execution_count": 5,
          "metadata": {},
          "output_type": "execute_result"
        }
      ],
      "source": [
        "len(data)"
      ]
    },
    {
      "cell_type": "code",
      "execution_count": null,
      "metadata": {
        "colab": {
          "base_uri": "https://localhost:8080/"
        },
        "id": "rG7XyGJsy4pg",
        "outputId": "3c5ed2c1-d87d-47dd-e88e-34ee9c557b14"
      },
      "outputs": [
        {
          "output_type": "execute_result",
          "data": {
            "text/plain": [
              "Comedy              9681\n",
              "Soundtrack          9646\n",
              "Indie               9543\n",
              "Jazz                9441\n",
              "Pop                 9386\n",
              "Electronic          9377\n",
              "Children’s Music    9353\n",
              "Folk                9299\n",
              "Hip-Hop             9295\n",
              "Rock                9272\n",
              "Alternative         9263\n",
              "Classical           9256\n",
              "Rap                 9232\n",
              "World               9096\n",
              "Soul                9089\n",
              "Blues               9023\n",
              "R&B                 8992\n",
              "Anime               8936\n",
              "Reggaeton           8927\n",
              "Ska                 8874\n",
              "Reggae              8771\n",
              "Dance               8701\n",
              "Country             8664\n",
              "Opera               8280\n",
              "Movie               7806\n",
              "Children's Music    5403\n",
              "A Capella            119\n",
              "Name: genre, dtype: int64"
            ]
          },
          "metadata": {},
          "execution_count": 2
        }
      ],
      "source": [
        "data.loc[:,'genre'].value_counts()"
      ]
    },
    {
      "cell_type": "markdown",
      "metadata": {
        "id": "guJZGjAzJKf7"
      },
      "source": [
        "thể loại children's music bị tách do sai chính tả, tiến hành gộp lại"
      ]
    },
    {
      "cell_type": "code",
      "execution_count": null,
      "metadata": {
        "colab": {
          "base_uri": "https://localhost:8080/"
        },
        "id": "khGB0uhYIqR7",
        "outputId": "9ce92085-12c7-4605-9a72-ec554ed9c348"
      },
      "outputs": [
        {
          "output_type": "stream",
          "name": "stdout",
          "text": [
            "genre\n",
            "A Capella             119\n",
            "Alternative          9263\n",
            "Anime                8936\n",
            "Blues                9023\n",
            "Children's Music    14756\n",
            "Classical            9256\n",
            "Comedy               9681\n",
            "Country              8664\n",
            "Dance                8701\n",
            "Electronic           9377\n",
            "Folk                 9299\n",
            "Hip-Hop              9295\n",
            "Indie                9543\n",
            "Jazz                 9441\n",
            "Movie                7806\n",
            "Opera                8280\n",
            "Pop                  9386\n",
            "R&B                  8992\n",
            "Rap                  9232\n",
            "Reggae               8771\n",
            "Reggaeton            8927\n",
            "Rock                 9272\n",
            "Ska                  8874\n",
            "Soul                 9089\n",
            "Soundtrack           9646\n",
            "World                9096\n",
            "dtype: int64\n"
          ]
        }
      ],
      "source": [
        "data.loc[data.loc[:,'genre']=='Children’s Music','genre'] = \"Children's Music\"\n",
        "print(data.groupby(['genre']).size())"
      ]
    },
    {
      "cell_type": "code",
      "execution_count": null,
      "metadata": {
        "colab": {
          "base_uri": "https://localhost:8080/",
          "height": 569
        },
        "id": "XYCN06RCBGM6",
        "outputId": "6f9e74f3-4818-430e-dc45-8b0755759b59"
      },
      "outputs": [
        {
          "data": {
            "text/plain": [
              "<matplotlib.axes._subplots.AxesSubplot at 0x7f8308e852d0>"
            ]
          },
          "execution_count": 11,
          "metadata": {},
          "output_type": "execute_result"
        },
        {
          "data": {
            "image/png": "[encoded data removed]",
            "text/plain": [
              "<Figure size 1368x576 with 1 Axes>"
            ]
          },
          "metadata": {},
          "output_type": "display_data"
        }
      ],
      "source": [
        "data_genre=data.groupby(['genre']).size().reset_index(name='quantity')\n",
        "plt.figure(figsize=(19,8))\n",
        "plt.xticks(rotation=45)\n",
        "sns.set_style(\"ticks\")\n",
        "\n",
        "sns.barplot(data = data_genre, x= 'genre', y= 'quantity')"
      ]
    },
    {
      "cell_type": "code",
      "execution_count": null,
      "metadata": {
        "colab": {
          "base_uri": "https://localhost:8080/"
        },
        "id": "kqVOnPOq38_o",
        "outputId": "640231fd-c199-40b0-e14c-fd91e2e10570"
      },
      "outputs": [
        {
          "name": "stdout",
          "output_type": "stream",
          "text": [
            "genre : 26\n",
            "artist_name : 14564\n",
            "track_name : 148615\n",
            "track_id : 176774\n",
            "popularity : 101\n",
            "acousticness : 4734\n",
            "danceability : 1295\n",
            "duration_ms : 70749\n",
            "energy : 2517\n",
            "instrumentalness : 5400\n",
            "key : 12\n",
            "liveness : 1732\n",
            "loudness : 27923\n",
            "mode : 2\n",
            "speechiness : 1641\n",
            "tempo : 78512\n",
            "time_signature : 5\n",
            "valence : 1692\n"
          ]
        }
      ],
      "source": [
        "for i in data.columns.values:\n",
        "  print(i,':',data[i].nunique())"
      ]
    },
    {
      "cell_type": "code",
      "execution_count": null,
      "metadata": {
        "colab": {
          "base_uri": "https://localhost:8080/",
          "height": 629
        },
        "id": "6vj7QsEN_MZ8",
        "outputId": "7db28161-d562-43db-c294-ec391b498193"
      },
      "outputs": [
        {
          "output_type": "execute_result",
          "data": {
            "text/plain": [
              "<matplotlib.axes._subplots.AxesSubplot at 0x7f2fc99f4750>"
            ]
          },
          "metadata": {},
          "execution_count": 6
        },
        {
          "output_type": "display_data",
          "data": {
            "image/png": "[encoded data removed]",
            "text/plain": [
              "<Figure size 720x720 with 2 Axes>"
            ]
          },
          "metadata": {
            "needs_background": "light"
          }
        }
      ],
      "source": [
        "import matplotlib.pyplot as plt\n",
        "import seaborn as sns\n",
        "\n",
        "fig= plt.subplots(figsize=(10,10))\n",
        "sns.heatmap(df.corr(),vmax=1,square=True,annot=True,cmap='Oranges')"
      ]
    },
    {
      "cell_type": "markdown",
      "source": [
        "# Chuẩn bị dữ liệu"
      ],
      "metadata": {
        "id": "lxUhi0eYw8b2"
      }
    },
    {
      "cell_type": "markdown",
      "metadata": {
        "id": "4rTOb4bPBCfE"
      },
      "source": [
        "Tập dữ liệu không chứa bất kỳ giá trị nào bị thiếu. Bây giờ chúng ta xem xét mối tương quan giữa các thuộc tính. Tiến hành bỏ một số cột như 'track_id', 'time_signature', 'key', 'mode' vì các cột này không đóng góp nhiều vào các tính năng của một bài hát: "
      ]
    },
    {
      "cell_type": "code",
      "execution_count": null,
      "metadata": {
        "id": "KsDM6aFsWrIf"
      },
      "outputs": [],
      "source": [
        "df = data.drop(columns=['track_id', 'time_signature', 'key','mode'])\n",
        "# 'track_name', 'artist_name'"
      ]
    },
    {
      "cell_type": "code",
      "execution_count": null,
      "metadata": {
        "colab": {
          "base_uri": "https://localhost:8080/",
          "height": 300
        },
        "id": "mZfiYx0KlddF",
        "outputId": "d302ecbd-5564-4f72-84e2-fc66bd2505ee"
      },
      "outputs": [
        {
          "output_type": "execute_result",
          "data": {
            "text/html": [
              "\n",
              "  <div id=\"df-f3ebad50-dbf0-4f49-b8ae-7dfb024fda1a\">\n",
              "    <div class=\"colab-df-container\">\n",
              "      <div>\n",
              "<style scoped>\n",
              "    .dataframe tbody tr th:only-of-type {\n",
              "        vertical-align: middle;\n",
              "    }\n",
              "\n",
              "    .dataframe tbody tr th {\n",
              "        vertical-align: top;\n",
              "    }\n",
              "\n",
              "    .dataframe thead th {\n",
              "        text-align: right;\n",
              "    }\n",
              "</style>\n",
              "<table border=\"1\" class=\"dataframe\">\n",
              "  <thead>\n",
              "    <tr style=\"text-align: right;\">\n",
              "      <th></th>\n",
              "      <th>popularity</th>\n",
              "      <th>acousticness</th>\n",
              "      <th>danceability</th>\n",
              "      <th>duration_ms</th>\n",
              "      <th>energy</th>\n",
              "      <th>instrumentalness</th>\n",
              "      <th>liveness</th>\n",
              "      <th>loudness</th>\n",
              "      <th>speechiness</th>\n",
              "      <th>tempo</th>\n",
              "      <th>valence</th>\n",
              "    </tr>\n",
              "  </thead>\n",
              "  <tbody>\n",
              "    <tr>\n",
              "      <th>count</th>\n",
              "      <td>232725.000000</td>\n",
              "      <td>232725.000000</td>\n",
              "      <td>232725.000000</td>\n",
              "      <td>2.327250e+05</td>\n",
              "      <td>232725.000000</td>\n",
              "      <td>232725.000000</td>\n",
              "      <td>232725.000000</td>\n",
              "      <td>232725.000000</td>\n",
              "      <td>232725.000000</td>\n",
              "      <td>232725.000000</td>\n",
              "      <td>232725.000000</td>\n",
              "    </tr>\n",
              "    <tr>\n",
              "      <th>mean</th>\n",
              "      <td>41.127502</td>\n",
              "      <td>0.368560</td>\n",
              "      <td>0.554364</td>\n",
              "      <td>2.351223e+05</td>\n",
              "      <td>0.570958</td>\n",
              "      <td>0.148301</td>\n",
              "      <td>0.215009</td>\n",
              "      <td>-9.569885</td>\n",
              "      <td>0.120765</td>\n",
              "      <td>117.666585</td>\n",
              "      <td>0.454917</td>\n",
              "    </tr>\n",
              "    <tr>\n",
              "      <th>std</th>\n",
              "      <td>18.189948</td>\n",
              "      <td>0.354768</td>\n",
              "      <td>0.185608</td>\n",
              "      <td>1.189359e+05</td>\n",
              "      <td>0.263456</td>\n",
              "      <td>0.302768</td>\n",
              "      <td>0.198273</td>\n",
              "      <td>5.998204</td>\n",
              "      <td>0.185518</td>\n",
              "      <td>30.898907</td>\n",
              "      <td>0.260065</td>\n",
              "    </tr>\n",
              "    <tr>\n",
              "      <th>min</th>\n",
              "      <td>0.000000</td>\n",
              "      <td>0.000000</td>\n",
              "      <td>0.056900</td>\n",
              "      <td>1.538700e+04</td>\n",
              "      <td>0.000020</td>\n",
              "      <td>0.000000</td>\n",
              "      <td>0.009670</td>\n",
              "      <td>-52.457000</td>\n",
              "      <td>0.022200</td>\n",
              "      <td>30.379000</td>\n",
              "      <td>0.000000</td>\n",
              "    </tr>\n",
              "    <tr>\n",
              "      <th>25%</th>\n",
              "      <td>29.000000</td>\n",
              "      <td>0.037600</td>\n",
              "      <td>0.435000</td>\n",
              "      <td>1.828570e+05</td>\n",
              "      <td>0.385000</td>\n",
              "      <td>0.000000</td>\n",
              "      <td>0.097400</td>\n",
              "      <td>-11.771000</td>\n",
              "      <td>0.036700</td>\n",
              "      <td>92.959000</td>\n",
              "      <td>0.237000</td>\n",
              "    </tr>\n",
              "    <tr>\n",
              "      <th>50%</th>\n",
              "      <td>43.000000</td>\n",
              "      <td>0.232000</td>\n",
              "      <td>0.571000</td>\n",
              "      <td>2.204270e+05</td>\n",
              "      <td>0.605000</td>\n",
              "      <td>0.000044</td>\n",
              "      <td>0.128000</td>\n",
              "      <td>-7.762000</td>\n",
              "      <td>0.050100</td>\n",
              "      <td>115.778000</td>\n",
              "      <td>0.444000</td>\n",
              "    </tr>\n",
              "    <tr>\n",
              "      <th>75%</th>\n",
              "      <td>55.000000</td>\n",
              "      <td>0.722000</td>\n",
              "      <td>0.692000</td>\n",
              "      <td>2.657680e+05</td>\n",
              "      <td>0.787000</td>\n",
              "      <td>0.035800</td>\n",
              "      <td>0.264000</td>\n",
              "      <td>-5.501000</td>\n",
              "      <td>0.105000</td>\n",
              "      <td>139.054000</td>\n",
              "      <td>0.660000</td>\n",
              "    </tr>\n",
              "    <tr>\n",
              "      <th>max</th>\n",
              "      <td>100.000000</td>\n",
              "      <td>0.996000</td>\n",
              "      <td>0.989000</td>\n",
              "      <td>5.552917e+06</td>\n",
              "      <td>0.999000</td>\n",
              "      <td>0.999000</td>\n",
              "      <td>1.000000</td>\n",
              "      <td>3.744000</td>\n",
              "      <td>0.967000</td>\n",
              "      <td>242.903000</td>\n",
              "      <td>1.000000</td>\n",
              "    </tr>\n",
              "  </tbody>\n",
              "</table>\n",
              "</div>\n",
              "      <button class=\"colab-df-convert\" onclick=\"convertToInteractive('df-f3ebad50-dbf0-4f49-b8ae-7dfb024fda1a')\"\n",
              "              title=\"Convert this dataframe to an interactive table.\"\n",
              "              style=\"display:none;\">\n",
              "        \n",
              "  <svg xmlns=\"http://www.w3.org/2000/svg\" height=\"24px\"viewBox=\"0 0 24 24\"\n",
              "       width=\"24px\">\n",
              "    <path d=\"M0 0h24v24H0V0z\" fill=\"none\"/>\n",
              "    <path d=\"M18.56 5.44l.94 2.06.94-2.06 2.06-.94-2.06-.94-.94-2.06-.94 2.06-2.06.94zm-11 1L8.5 8.5l.94-2.06 2.06-.94-2.06-.94L8.5 2.5l-.94 2.06-2.06.94zm10 10l.94 2.06.94-2.06 2.06-.94-2.06-.94-.94-2.06-.94 2.06-2.06.94z\"/><path d=\"M17.41 7.96l-1.37-1.37c-.4-.4-.92-.59-1.43-.59-.52 0-1.04.2-1.43.59L10.3 9.45l-7.72 7.72c-.78.78-.78 2.05 0 2.83L4 21.41c.39.39.9.59 1.41.59.51 0 1.02-.2 1.41-.59l7.78-7.78 2.81-2.81c.8-.78.8-2.07 0-2.86zM5.41 20L4 18.59l7.72-7.72 1.47 1.35L5.41 20z\"/>\n",
              "  </svg>\n",
              "      </button>\n",
              "      \n",
              "  <style>\n",
              "    .colab-df-container {\n",
              "      display:flex;\n",
              "      flex-wrap:wrap;\n",
              "      gap: 12px;\n",
              "    }\n",
              "\n",
              "    .colab-df-convert {\n",
              "      background-color: #E8F0FE;\n",
              "      border: none;\n",
              "      border-radius: 50%;\n",
              "      cursor: pointer;\n",
              "      display: none;\n",
              "      fill: #1967D2;\n",
              "      height: 32px;\n",
              "      padding: 0 0 0 0;\n",
              "      width: 32px;\n",
              "    }\n",
              "\n",
              "    .colab-df-convert:hover {\n",
              "      background-color: #E2EBFA;\n",
              "      box-shadow: 0px 1px 2px rgba(60, 64, 67, 0.3), 0px 1px 3px 1px rgba(60, 64, 67, 0.15);\n",
              "      fill: #174EA6;\n",
              "    }\n",
              "\n",
              "    [theme=dark] .colab-df-convert {\n",
              "      background-color: #3B4455;\n",
              "      fill: #D2E3FC;\n",
              "    }\n",
              "\n",
              "    [theme=dark] .colab-df-convert:hover {\n",
              "      background-color: #434B5C;\n",
              "      box-shadow: 0px 1px 3px 1px rgba(0, 0, 0, 0.15);\n",
              "      filter: drop-shadow(0px 1px 2px rgba(0, 0, 0, 0.3));\n",
              "      fill: #FFFFFF;\n",
              "    }\n",
              "  </style>\n",
              "\n",
              "      <script>\n",
              "        const buttonEl =\n",
              "          document.querySelector('#df-f3ebad50-dbf0-4f49-b8ae-7dfb024fda1a button.colab-df-convert');\n",
              "        buttonEl.style.display =\n",
              "          google.colab.kernel.accessAllowed ? 'block' : 'none';\n",
              "\n",
              "        async function convertToInteractive(key) {\n",
              "          const element = document.querySelector('#df-f3ebad50-dbf0-4f49-b8ae-7dfb024fda1a');\n",
              "          const dataTable =\n",
              "            await google.colab.kernel.invokeFunction('convertToInteractive',\n",
              "                                                     [key], {});\n",
              "          if (!dataTable) return;\n",
              "\n",
              "          const docLinkHtml = 'Like what you see? Visit the ' +\n",
              "            '<a target=\"_blank\" href=https://colab.research.google.com/notebooks/data_table.ipynb>data table notebook</a>'\n",
              "            + ' to learn more about interactive tables.';\n",
              "          element.innerHTML = '';\n",
              "          dataTable['output_type'] = 'display_data';\n",
              "          await google.colab.output.renderOutput(dataTable, element);\n",
              "          const docLink = document.createElement('div');\n",
              "          docLink.innerHTML = docLinkHtml;\n",
              "          element.appendChild(docLink);\n",
              "        }\n",
              "      </script>\n",
              "    </div>\n",
              "  </div>\n",
              "  "
            ],
            "text/plain": [
              "          popularity   acousticness  ...          tempo        valence\n",
              "count  232725.000000  232725.000000  ...  232725.000000  232725.000000\n",
              "mean       41.127502       0.368560  ...     117.666585       0.454917\n",
              "std        18.189948       0.354768  ...      30.898907       0.260065\n",
              "min         0.000000       0.000000  ...      30.379000       0.000000\n",
              "25%        29.000000       0.037600  ...      92.959000       0.237000\n",
              "50%        43.000000       0.232000  ...     115.778000       0.444000\n",
              "75%        55.000000       0.722000  ...     139.054000       0.660000\n",
              "max       100.000000       0.996000  ...     242.903000       1.000000\n",
              "\n",
              "[8 rows x 11 columns]"
            ]
          },
          "metadata": {},
          "execution_count": 8
        }
      ],
      "source": [
        "df.describe()"
      ]
    },
    {
      "cell_type": "markdown",
      "source": [
        "scale dữ liệu"
      ],
      "metadata": {
        "id": "V9f2iJyUxFMf"
      }
    },
    {
      "cell_type": "code",
      "execution_count": null,
      "metadata": {
        "id": "Ra5_Xp98mo_J"
      },
      "outputs": [],
      "source": [
        "#scale dữ liệu\n",
        "from sklearn.preprocessing import StandardScaler\n",
        "\n",
        "column_scale=['popularity', 'acousticness', 'danceability', 'duration_ms','energy', 'instrumentalness', 'liveness', 'loudness', 'speechiness','tempo', 'valence']\n",
        "scaler= StandardScaler()\n",
        "df[column_scale]=scaler.fit_transform(df[column_scale])"
      ]
    },
    {
      "cell_type": "code",
      "execution_count": null,
      "metadata": {
        "colab": {
          "base_uri": "https://localhost:8080/",
          "height": 300
        },
        "id": "fUuxS_v3n3ch",
        "outputId": "26fcfe7d-f9aa-464c-b94a-86337fb1eb33"
      },
      "outputs": [
        {
          "output_type": "execute_result",
          "data": {
            "text/html": [
              "\n",
              "  <div id=\"df-bbd3cf95-59f1-43f0-ac47-fa817ef923fa\">\n",
              "    <div class=\"colab-df-container\">\n",
              "      <div>\n",
              "<style scoped>\n",
              "    .dataframe tbody tr th:only-of-type {\n",
              "        vertical-align: middle;\n",
              "    }\n",
              "\n",
              "    .dataframe tbody tr th {\n",
              "        vertical-align: top;\n",
              "    }\n",
              "\n",
              "    .dataframe thead th {\n",
              "        text-align: right;\n",
              "    }\n",
              "</style>\n",
              "<table border=\"1\" class=\"dataframe\">\n",
              "  <thead>\n",
              "    <tr style=\"text-align: right;\">\n",
              "      <th></th>\n",
              "      <th>popularity</th>\n",
              "      <th>acousticness</th>\n",
              "      <th>danceability</th>\n",
              "      <th>duration_ms</th>\n",
              "      <th>energy</th>\n",
              "      <th>instrumentalness</th>\n",
              "      <th>liveness</th>\n",
              "      <th>loudness</th>\n",
              "      <th>speechiness</th>\n",
              "      <th>tempo</th>\n",
              "      <th>valence</th>\n",
              "    </tr>\n",
              "  </thead>\n",
              "  <tbody>\n",
              "    <tr>\n",
              "      <th>count</th>\n",
              "      <td>2.327250e+05</td>\n",
              "      <td>2.327250e+05</td>\n",
              "      <td>2.327250e+05</td>\n",
              "      <td>2.327250e+05</td>\n",
              "      <td>2.327250e+05</td>\n",
              "      <td>2.327250e+05</td>\n",
              "      <td>2.327250e+05</td>\n",
              "      <td>2.327250e+05</td>\n",
              "      <td>2.327250e+05</td>\n",
              "      <td>2.327250e+05</td>\n",
              "      <td>2.327250e+05</td>\n",
              "    </tr>\n",
              "    <tr>\n",
              "      <th>mean</th>\n",
              "      <td>2.077132e-14</td>\n",
              "      <td>-2.533002e-16</td>\n",
              "      <td>-2.523991e-15</td>\n",
              "      <td>1.170275e-16</td>\n",
              "      <td>1.701792e-15</td>\n",
              "      <td>-8.930111e-14</td>\n",
              "      <td>1.048908e-15</td>\n",
              "      <td>-8.325540e-18</td>\n",
              "      <td>-7.927193e-16</td>\n",
              "      <td>1.524910e-16</td>\n",
              "      <td>5.444042e-16</td>\n",
              "    </tr>\n",
              "    <tr>\n",
              "      <th>std</th>\n",
              "      <td>1.000002e+00</td>\n",
              "      <td>1.000002e+00</td>\n",
              "      <td>1.000002e+00</td>\n",
              "      <td>1.000002e+00</td>\n",
              "      <td>1.000002e+00</td>\n",
              "      <td>1.000002e+00</td>\n",
              "      <td>1.000002e+00</td>\n",
              "      <td>1.000002e+00</td>\n",
              "      <td>1.000002e+00</td>\n",
              "      <td>1.000002e+00</td>\n",
              "      <td>1.000002e+00</td>\n",
              "    </tr>\n",
              "    <tr>\n",
              "      <th>min</th>\n",
              "      <td>-2.261007e+00</td>\n",
              "      <td>-1.038880e+00</td>\n",
              "      <td>-2.680191e+00</td>\n",
              "      <td>-1.847514e+00</td>\n",
              "      <td>-2.167115e+00</td>\n",
              "      <td>-4.898185e-01</td>\n",
              "      <td>-1.035644e+00</td>\n",
              "      <td>-7.150008e+00</td>\n",
              "      <td>-5.312965e-01</td>\n",
              "      <td>-2.824947e+00</td>\n",
              "      <td>-1.749243e+00</td>\n",
              "    </tr>\n",
              "    <tr>\n",
              "      <th>25%</th>\n",
              "      <td>-6.667160e-01</td>\n",
              "      <td>-9.328945e-01</td>\n",
              "      <td>-6.431004e-01</td>\n",
              "      <td>-4.394421e-01</td>\n",
              "      <td>-7.058423e-01</td>\n",
              "      <td>-4.898185e-01</td>\n",
              "      <td>-5.931709e-01</td>\n",
              "      <td>-3.669631e-01</td>\n",
              "      <td>-4.531369e-01</td>\n",
              "      <td>-7.996282e-01</td>\n",
              "      <td>-8.379325e-01</td>\n",
              "    </tr>\n",
              "    <tr>\n",
              "      <th>50%</th>\n",
              "      <td>1.029416e-01</td>\n",
              "      <td>-3.849297e-01</td>\n",
              "      <td>8.962731e-02</td>\n",
              "      <td>-1.235571e-01</td>\n",
              "      <td>1.292150e-01</td>\n",
              "      <td>-4.896722e-01</td>\n",
              "      <td>-4.388376e-01</td>\n",
              "      <td>3.014051e-01</td>\n",
              "      <td>-3.809067e-01</td>\n",
              "      <td>-6.112155e-02</td>\n",
              "      <td>-4.197743e-02</td>\n",
              "    </tr>\n",
              "    <tr>\n",
              "      <th>75%</th>\n",
              "      <td>7.626480e-01</td>\n",
              "      <td>9.962575e-01</td>\n",
              "      <td>7.415395e-01</td>\n",
              "      <td>2.576659e-01</td>\n",
              "      <td>8.200350e-01</td>\n",
              "      <td>-3.715761e-01</td>\n",
              "      <td>2.470882e-01</td>\n",
              "      <td>6.783521e-01</td>\n",
              "      <td>-8.497840e-02</td>\n",
              "      <td>6.921753e-01</td>\n",
              "      <td>7.885844e-01</td>\n",
              "    </tr>\n",
              "    <tr>\n",
              "      <th>max</th>\n",
              "      <td>3.236547e+00</td>\n",
              "      <td>1.768595e+00</td>\n",
              "      <td>2.341688e+00</td>\n",
              "      <td>4.471153e+01</td>\n",
              "      <td>1.624727e+00</td>\n",
              "      <td>2.809741e+00</td>\n",
              "      <td>3.959158e+00</td>\n",
              "      <td>2.219650e+00</td>\n",
              "      <td>4.561473e+00</td>\n",
              "      <td>4.053111e+00</td>\n",
              "      <td>2.095950e+00</td>\n",
              "    </tr>\n",
              "  </tbody>\n",
              "</table>\n",
              "</div>\n",
              "      <button class=\"colab-df-convert\" onclick=\"convertToInteractive('df-bbd3cf95-59f1-43f0-ac47-fa817ef923fa')\"\n",
              "              title=\"Convert this dataframe to an interactive table.\"\n",
              "              style=\"display:none;\">\n",
              "        \n",
              "  <svg xmlns=\"http://www.w3.org/2000/svg\" height=\"24px\"viewBox=\"0 0 24 24\"\n",
              "       width=\"24px\">\n",
              "    <path d=\"M0 0h24v24H0V0z\" fill=\"none\"/>\n",
              "    <path d=\"M18.56 5.44l.94 2.06.94-2.06 2.06-.94-2.06-.94-.94-2.06-.94 2.06-2.06.94zm-11 1L8.5 8.5l.94-2.06 2.06-.94-2.06-.94L8.5 2.5l-.94 2.06-2.06.94zm10 10l.94 2.06.94-2.06 2.06-.94-2.06-.94-.94-2.06-.94 2.06-2.06.94z\"/><path d=\"M17.41 7.96l-1.37-1.37c-.4-.4-.92-.59-1.43-.59-.52 0-1.04.2-1.43.59L10.3 9.45l-7.72 7.72c-.78.78-.78 2.05 0 2.83L4 21.41c.39.39.9.59 1.41.59.51 0 1.02-.2 1.41-.59l7.78-7.78 2.81-2.81c.8-.78.8-2.07 0-2.86zM5.41 20L4 18.59l7.72-7.72 1.47 1.35L5.41 20z\"/>\n",
              "  </svg>\n",
              "      </button>\n",
              "      \n",
              "  <style>\n",
              "    .colab-df-container {\n",
              "      display:flex;\n",
              "      flex-wrap:wrap;\n",
              "      gap: 12px;\n",
              "    }\n",
              "\n",
              "    .colab-df-convert {\n",
              "      background-color: #E8F0FE;\n",
              "      border: none;\n",
              "      border-radius: 50%;\n",
              "      cursor: pointer;\n",
              "      display: none;\n",
              "      fill: #1967D2;\n",
              "      height: 32px;\n",
              "      padding: 0 0 0 0;\n",
              "      width: 32px;\n",
              "    }\n",
              "\n",
              "    .colab-df-convert:hover {\n",
              "      background-color: #E2EBFA;\n",
              "      box-shadow: 0px 1px 2px rgba(60, 64, 67, 0.3), 0px 1px 3px 1px rgba(60, 64, 67, 0.15);\n",
              "      fill: #174EA6;\n",
              "    }\n",
              "\n",
              "    [theme=dark] .colab-df-convert {\n",
              "      background-color: #3B4455;\n",
              "      fill: #D2E3FC;\n",
              "    }\n",
              "\n",
              "    [theme=dark] .colab-df-convert:hover {\n",
              "      background-color: #434B5C;\n",
              "      box-shadow: 0px 1px 3px 1px rgba(0, 0, 0, 0.15);\n",
              "      filter: drop-shadow(0px 1px 2px rgba(0, 0, 0, 0.3));\n",
              "      fill: #FFFFFF;\n",
              "    }\n",
              "  </style>\n",
              "\n",
              "      <script>\n",
              "        const buttonEl =\n",
              "          document.querySelector('#df-bbd3cf95-59f1-43f0-ac47-fa817ef923fa button.colab-df-convert');\n",
              "        buttonEl.style.display =\n",
              "          google.colab.kernel.accessAllowed ? 'block' : 'none';\n",
              "\n",
              "        async function convertToInteractive(key) {\n",
              "          const element = document.querySelector('#df-bbd3cf95-59f1-43f0-ac47-fa817ef923fa');\n",
              "          const dataTable =\n",
              "            await google.colab.kernel.invokeFunction('convertToInteractive',\n",
              "                                                     [key], {});\n",
              "          if (!dataTable) return;\n",
              "\n",
              "          const docLinkHtml = 'Like what you see? Visit the ' +\n",
              "            '<a target=\"_blank\" href=https://colab.research.google.com/notebooks/data_table.ipynb>data table notebook</a>'\n",
              "            + ' to learn more about interactive tables.';\n",
              "          element.innerHTML = '';\n",
              "          dataTable['output_type'] = 'display_data';\n",
              "          await google.colab.output.renderOutput(dataTable, element);\n",
              "          const docLink = document.createElement('div');\n",
              "          docLink.innerHTML = docLinkHtml;\n",
              "          element.appendChild(docLink);\n",
              "        }\n",
              "      </script>\n",
              "    </div>\n",
              "  </div>\n",
              "  "
            ],
            "text/plain": [
              "         popularity  acousticness  ...         tempo       valence\n",
              "count  2.327250e+05  2.327250e+05  ...  2.327250e+05  2.327250e+05\n",
              "mean   2.077132e-14 -2.533002e-16  ...  1.524910e-16  5.444042e-16\n",
              "std    1.000002e+00  1.000002e+00  ...  1.000002e+00  1.000002e+00\n",
              "min   -2.261007e+00 -1.038880e+00  ... -2.824947e+00 -1.749243e+00\n",
              "25%   -6.667160e-01 -9.328945e-01  ... -7.996282e-01 -8.379325e-01\n",
              "50%    1.029416e-01 -3.849297e-01  ... -6.112155e-02 -4.197743e-02\n",
              "75%    7.626480e-01  9.962575e-01  ...  6.921753e-01  7.885844e-01\n",
              "max    3.236547e+00  1.768595e+00  ...  4.053111e+00  2.095950e+00\n",
              "\n",
              "[8 rows x 11 columns]"
            ]
          },
          "metadata": {},
          "execution_count": 48
        }
      ],
      "source": [
        "df.describe()"
      ]
    },
    {
      "cell_type": "markdown",
      "source": [
        "OHE cho genre"
      ],
      "metadata": {
        "id": "kUhT9eJ3xJge"
      }
    },
    {
      "cell_type": "code",
      "execution_count": null,
      "metadata": {
        "colab": {
          "base_uri": "https://localhost:8080/",
          "height": 424
        },
        "id": "fShgBzw98Zfe",
        "outputId": "b7f40fde-0f08-46a2-8b6e-481a4692f200"
      },
      "outputs": [
        {
          "output_type": "execute_result",
          "data": {
            "text/html": [
              "\n",
              "  <div id=\"df-c6350218-e051-4ff7-b060-68723fffe0ef\">\n",
              "    <div class=\"colab-df-container\">\n",
              "      <div>\n",
              "<style scoped>\n",
              "    .dataframe tbody tr th:only-of-type {\n",
              "        vertical-align: middle;\n",
              "    }\n",
              "\n",
              "    .dataframe tbody tr th {\n",
              "        vertical-align: top;\n",
              "    }\n",
              "\n",
              "    .dataframe thead th {\n",
              "        text-align: right;\n",
              "    }\n",
              "</style>\n",
              "<table border=\"1\" class=\"dataframe\">\n",
              "  <thead>\n",
              "    <tr style=\"text-align: right;\">\n",
              "      <th></th>\n",
              "      <th>Movie</th>\n",
              "      <th>R&amp;B</th>\n",
              "      <th>A Capella</th>\n",
              "      <th>Alternative</th>\n",
              "      <th>Country</th>\n",
              "      <th>Dance</th>\n",
              "      <th>Electronic</th>\n",
              "      <th>Anime</th>\n",
              "      <th>Folk</th>\n",
              "      <th>Blues</th>\n",
              "      <th>Opera</th>\n",
              "      <th>Hip-Hop</th>\n",
              "      <th>Children's Music</th>\n",
              "      <th>Rap</th>\n",
              "      <th>Indie</th>\n",
              "      <th>Classical</th>\n",
              "      <th>Pop</th>\n",
              "      <th>Reggae</th>\n",
              "      <th>Reggaeton</th>\n",
              "      <th>Jazz</th>\n",
              "      <th>Rock</th>\n",
              "      <th>Ska</th>\n",
              "      <th>Comedy</th>\n",
              "      <th>Soul</th>\n",
              "      <th>Soundtrack</th>\n",
              "      <th>World</th>\n",
              "    </tr>\n",
              "  </thead>\n",
              "  <tbody>\n",
              "    <tr>\n",
              "      <th>0</th>\n",
              "      <td>0.0</td>\n",
              "      <td>0.0</td>\n",
              "      <td>0.0</td>\n",
              "      <td>0.0</td>\n",
              "      <td>0.0</td>\n",
              "      <td>0.0</td>\n",
              "      <td>0.0</td>\n",
              "      <td>0.0</td>\n",
              "      <td>0.0</td>\n",
              "      <td>0.0</td>\n",
              "      <td>0.0</td>\n",
              "      <td>0.0</td>\n",
              "      <td>0.0</td>\n",
              "      <td>0.0</td>\n",
              "      <td>1.0</td>\n",
              "      <td>0.0</td>\n",
              "      <td>0.0</td>\n",
              "      <td>0.0</td>\n",
              "      <td>0.0</td>\n",
              "      <td>0.0</td>\n",
              "      <td>0.0</td>\n",
              "      <td>0.0</td>\n",
              "      <td>0.0</td>\n",
              "      <td>0.0</td>\n",
              "      <td>0.0</td>\n",
              "      <td>0.0</td>\n",
              "    </tr>\n",
              "    <tr>\n",
              "      <th>1</th>\n",
              "      <td>0.0</td>\n",
              "      <td>0.0</td>\n",
              "      <td>0.0</td>\n",
              "      <td>0.0</td>\n",
              "      <td>0.0</td>\n",
              "      <td>0.0</td>\n",
              "      <td>0.0</td>\n",
              "      <td>0.0</td>\n",
              "      <td>0.0</td>\n",
              "      <td>0.0</td>\n",
              "      <td>0.0</td>\n",
              "      <td>0.0</td>\n",
              "      <td>0.0</td>\n",
              "      <td>0.0</td>\n",
              "      <td>1.0</td>\n",
              "      <td>0.0</td>\n",
              "      <td>0.0</td>\n",
              "      <td>0.0</td>\n",
              "      <td>0.0</td>\n",
              "      <td>0.0</td>\n",
              "      <td>0.0</td>\n",
              "      <td>0.0</td>\n",
              "      <td>0.0</td>\n",
              "      <td>0.0</td>\n",
              "      <td>0.0</td>\n",
              "      <td>0.0</td>\n",
              "    </tr>\n",
              "    <tr>\n",
              "      <th>2</th>\n",
              "      <td>0.0</td>\n",
              "      <td>0.0</td>\n",
              "      <td>0.0</td>\n",
              "      <td>0.0</td>\n",
              "      <td>0.0</td>\n",
              "      <td>0.0</td>\n",
              "      <td>0.0</td>\n",
              "      <td>0.0</td>\n",
              "      <td>0.0</td>\n",
              "      <td>0.0</td>\n",
              "      <td>0.0</td>\n",
              "      <td>0.0</td>\n",
              "      <td>0.0</td>\n",
              "      <td>0.0</td>\n",
              "      <td>1.0</td>\n",
              "      <td>0.0</td>\n",
              "      <td>0.0</td>\n",
              "      <td>0.0</td>\n",
              "      <td>0.0</td>\n",
              "      <td>0.0</td>\n",
              "      <td>0.0</td>\n",
              "      <td>0.0</td>\n",
              "      <td>0.0</td>\n",
              "      <td>0.0</td>\n",
              "      <td>0.0</td>\n",
              "      <td>0.0</td>\n",
              "    </tr>\n",
              "    <tr>\n",
              "      <th>3</th>\n",
              "      <td>0.0</td>\n",
              "      <td>0.0</td>\n",
              "      <td>0.0</td>\n",
              "      <td>0.0</td>\n",
              "      <td>0.0</td>\n",
              "      <td>0.0</td>\n",
              "      <td>0.0</td>\n",
              "      <td>0.0</td>\n",
              "      <td>0.0</td>\n",
              "      <td>0.0</td>\n",
              "      <td>0.0</td>\n",
              "      <td>0.0</td>\n",
              "      <td>0.0</td>\n",
              "      <td>0.0</td>\n",
              "      <td>1.0</td>\n",
              "      <td>0.0</td>\n",
              "      <td>0.0</td>\n",
              "      <td>0.0</td>\n",
              "      <td>0.0</td>\n",
              "      <td>0.0</td>\n",
              "      <td>0.0</td>\n",
              "      <td>0.0</td>\n",
              "      <td>0.0</td>\n",
              "      <td>0.0</td>\n",
              "      <td>0.0</td>\n",
              "      <td>0.0</td>\n",
              "    </tr>\n",
              "    <tr>\n",
              "      <th>4</th>\n",
              "      <td>0.0</td>\n",
              "      <td>0.0</td>\n",
              "      <td>0.0</td>\n",
              "      <td>0.0</td>\n",
              "      <td>0.0</td>\n",
              "      <td>0.0</td>\n",
              "      <td>0.0</td>\n",
              "      <td>0.0</td>\n",
              "      <td>0.0</td>\n",
              "      <td>0.0</td>\n",
              "      <td>0.0</td>\n",
              "      <td>0.0</td>\n",
              "      <td>0.0</td>\n",
              "      <td>0.0</td>\n",
              "      <td>1.0</td>\n",
              "      <td>0.0</td>\n",
              "      <td>0.0</td>\n",
              "      <td>0.0</td>\n",
              "      <td>0.0</td>\n",
              "      <td>0.0</td>\n",
              "      <td>0.0</td>\n",
              "      <td>0.0</td>\n",
              "      <td>0.0</td>\n",
              "      <td>0.0</td>\n",
              "      <td>0.0</td>\n",
              "      <td>0.0</td>\n",
              "    </tr>\n",
              "    <tr>\n",
              "      <th>5</th>\n",
              "      <td>0.0</td>\n",
              "      <td>0.0</td>\n",
              "      <td>0.0</td>\n",
              "      <td>0.0</td>\n",
              "      <td>0.0</td>\n",
              "      <td>0.0</td>\n",
              "      <td>0.0</td>\n",
              "      <td>0.0</td>\n",
              "      <td>0.0</td>\n",
              "      <td>0.0</td>\n",
              "      <td>0.0</td>\n",
              "      <td>0.0</td>\n",
              "      <td>0.0</td>\n",
              "      <td>0.0</td>\n",
              "      <td>1.0</td>\n",
              "      <td>0.0</td>\n",
              "      <td>0.0</td>\n",
              "      <td>0.0</td>\n",
              "      <td>0.0</td>\n",
              "      <td>0.0</td>\n",
              "      <td>0.0</td>\n",
              "      <td>0.0</td>\n",
              "      <td>0.0</td>\n",
              "      <td>0.0</td>\n",
              "      <td>0.0</td>\n",
              "      <td>0.0</td>\n",
              "    </tr>\n",
              "    <tr>\n",
              "      <th>6</th>\n",
              "      <td>0.0</td>\n",
              "      <td>0.0</td>\n",
              "      <td>0.0</td>\n",
              "      <td>0.0</td>\n",
              "      <td>0.0</td>\n",
              "      <td>0.0</td>\n",
              "      <td>0.0</td>\n",
              "      <td>0.0</td>\n",
              "      <td>0.0</td>\n",
              "      <td>0.0</td>\n",
              "      <td>0.0</td>\n",
              "      <td>0.0</td>\n",
              "      <td>0.0</td>\n",
              "      <td>0.0</td>\n",
              "      <td>1.0</td>\n",
              "      <td>0.0</td>\n",
              "      <td>0.0</td>\n",
              "      <td>0.0</td>\n",
              "      <td>0.0</td>\n",
              "      <td>0.0</td>\n",
              "      <td>0.0</td>\n",
              "      <td>0.0</td>\n",
              "      <td>0.0</td>\n",
              "      <td>0.0</td>\n",
              "      <td>0.0</td>\n",
              "      <td>0.0</td>\n",
              "    </tr>\n",
              "    <tr>\n",
              "      <th>7</th>\n",
              "      <td>0.0</td>\n",
              "      <td>0.0</td>\n",
              "      <td>0.0</td>\n",
              "      <td>0.0</td>\n",
              "      <td>0.0</td>\n",
              "      <td>0.0</td>\n",
              "      <td>0.0</td>\n",
              "      <td>0.0</td>\n",
              "      <td>0.0</td>\n",
              "      <td>0.0</td>\n",
              "      <td>0.0</td>\n",
              "      <td>0.0</td>\n",
              "      <td>0.0</td>\n",
              "      <td>0.0</td>\n",
              "      <td>1.0</td>\n",
              "      <td>0.0</td>\n",
              "      <td>0.0</td>\n",
              "      <td>0.0</td>\n",
              "      <td>0.0</td>\n",
              "      <td>0.0</td>\n",
              "      <td>0.0</td>\n",
              "      <td>0.0</td>\n",
              "      <td>0.0</td>\n",
              "      <td>0.0</td>\n",
              "      <td>0.0</td>\n",
              "      <td>0.0</td>\n",
              "    </tr>\n",
              "    <tr>\n",
              "      <th>8</th>\n",
              "      <td>0.0</td>\n",
              "      <td>0.0</td>\n",
              "      <td>0.0</td>\n",
              "      <td>0.0</td>\n",
              "      <td>0.0</td>\n",
              "      <td>0.0</td>\n",
              "      <td>0.0</td>\n",
              "      <td>0.0</td>\n",
              "      <td>0.0</td>\n",
              "      <td>0.0</td>\n",
              "      <td>0.0</td>\n",
              "      <td>0.0</td>\n",
              "      <td>0.0</td>\n",
              "      <td>0.0</td>\n",
              "      <td>1.0</td>\n",
              "      <td>0.0</td>\n",
              "      <td>0.0</td>\n",
              "      <td>0.0</td>\n",
              "      <td>0.0</td>\n",
              "      <td>0.0</td>\n",
              "      <td>0.0</td>\n",
              "      <td>0.0</td>\n",
              "      <td>0.0</td>\n",
              "      <td>0.0</td>\n",
              "      <td>0.0</td>\n",
              "      <td>0.0</td>\n",
              "    </tr>\n",
              "    <tr>\n",
              "      <th>9</th>\n",
              "      <td>0.0</td>\n",
              "      <td>0.0</td>\n",
              "      <td>0.0</td>\n",
              "      <td>0.0</td>\n",
              "      <td>0.0</td>\n",
              "      <td>0.0</td>\n",
              "      <td>0.0</td>\n",
              "      <td>0.0</td>\n",
              "      <td>0.0</td>\n",
              "      <td>0.0</td>\n",
              "      <td>0.0</td>\n",
              "      <td>0.0</td>\n",
              "      <td>0.0</td>\n",
              "      <td>0.0</td>\n",
              "      <td>1.0</td>\n",
              "      <td>0.0</td>\n",
              "      <td>0.0</td>\n",
              "      <td>0.0</td>\n",
              "      <td>0.0</td>\n",
              "      <td>0.0</td>\n",
              "      <td>0.0</td>\n",
              "      <td>0.0</td>\n",
              "      <td>0.0</td>\n",
              "      <td>0.0</td>\n",
              "      <td>0.0</td>\n",
              "      <td>0.0</td>\n",
              "    </tr>\n",
              "  </tbody>\n",
              "</table>\n",
              "</div>\n",
              "      <button class=\"colab-df-convert\" onclick=\"convertToInteractive('df-c6350218-e051-4ff7-b060-68723fffe0ef')\"\n",
              "              title=\"Convert this dataframe to an interactive table.\"\n",
              "              style=\"display:none;\">\n",
              "        \n",
              "  <svg xmlns=\"http://www.w3.org/2000/svg\" height=\"24px\"viewBox=\"0 0 24 24\"\n",
              "       width=\"24px\">\n",
              "    <path d=\"M0 0h24v24H0V0z\" fill=\"none\"/>\n",
              "    <path d=\"M18.56 5.44l.94 2.06.94-2.06 2.06-.94-2.06-.94-.94-2.06-.94 2.06-2.06.94zm-11 1L8.5 8.5l.94-2.06 2.06-.94-2.06-.94L8.5 2.5l-.94 2.06-2.06.94zm10 10l.94 2.06.94-2.06 2.06-.94-2.06-.94-.94-2.06-.94 2.06-2.06.94z\"/><path d=\"M17.41 7.96l-1.37-1.37c-.4-.4-.92-.59-1.43-.59-.52 0-1.04.2-1.43.59L10.3 9.45l-7.72 7.72c-.78.78-.78 2.05 0 2.83L4 21.41c.39.39.9.59 1.41.59.51 0 1.02-.2 1.41-.59l7.78-7.78 2.81-2.81c.8-.78.8-2.07 0-2.86zM5.41 20L4 18.59l7.72-7.72 1.47 1.35L5.41 20z\"/>\n",
              "  </svg>\n",
              "      </button>\n",
              "      \n",
              "  <style>\n",
              "    .colab-df-container {\n",
              "      display:flex;\n",
              "      flex-wrap:wrap;\n",
              "      gap: 12px;\n",
              "    }\n",
              "\n",
              "    .colab-df-convert {\n",
              "      background-color: #E8F0FE;\n",
              "      border: none;\n",
              "      border-radius: 50%;\n",
              "      cursor: pointer;\n",
              "      display: none;\n",
              "      fill: #1967D2;\n",
              "      height: 32px;\n",
              "      padding: 0 0 0 0;\n",
              "      width: 32px;\n",
              "    }\n",
              "\n",
              "    .colab-df-convert:hover {\n",
              "      background-color: #E2EBFA;\n",
              "      box-shadow: 0px 1px 2px rgba(60, 64, 67, 0.3), 0px 1px 3px 1px rgba(60, 64, 67, 0.15);\n",
              "      fill: #174EA6;\n",
              "    }\n",
              "\n",
              "    [theme=dark] .colab-df-convert {\n",
              "      background-color: #3B4455;\n",
              "      fill: #D2E3FC;\n",
              "    }\n",
              "\n",
              "    [theme=dark] .colab-df-convert:hover {\n",
              "      background-color: #434B5C;\n",
              "      box-shadow: 0px 1px 3px 1px rgba(0, 0, 0, 0.15);\n",
              "      filter: drop-shadow(0px 1px 2px rgba(0, 0, 0, 0.3));\n",
              "      fill: #FFFFFF;\n",
              "    }\n",
              "  </style>\n",
              "\n",
              "      <script>\n",
              "        const buttonEl =\n",
              "          document.querySelector('#df-c6350218-e051-4ff7-b060-68723fffe0ef button.colab-df-convert');\n",
              "        buttonEl.style.display =\n",
              "          google.colab.kernel.accessAllowed ? 'block' : 'none';\n",
              "\n",
              "        async function convertToInteractive(key) {\n",
              "          const element = document.querySelector('#df-c6350218-e051-4ff7-b060-68723fffe0ef');\n",
              "          const dataTable =\n",
              "            await google.colab.kernel.invokeFunction('convertToInteractive',\n",
              "                                                     [key], {});\n",
              "          if (!dataTable) return;\n",
              "\n",
              "          const docLinkHtml = 'Like what you see? Visit the ' +\n",
              "            '<a target=\"_blank\" href=https://colab.research.google.com/notebooks/data_table.ipynb>data table notebook</a>'\n",
              "            + ' to learn more about interactive tables.';\n",
              "          element.innerHTML = '';\n",
              "          dataTable['output_type'] = 'display_data';\n",
              "          await google.colab.output.renderOutput(dataTable, element);\n",
              "          const docLink = document.createElement('div');\n",
              "          docLink.innerHTML = docLinkHtml;\n",
              "          element.appendChild(docLink);\n",
              "        }\n",
              "      </script>\n",
              "    </div>\n",
              "  </div>\n",
              "  "
            ],
            "text/plain": [
              "   Movie  R&B  A Capella  Alternative  ...  Comedy  Soul  Soundtrack  World\n",
              "0    0.0  0.0        0.0          0.0  ...     0.0   0.0         0.0    0.0\n",
              "1    0.0  0.0        0.0          0.0  ...     0.0   0.0         0.0    0.0\n",
              "2    0.0  0.0        0.0          0.0  ...     0.0   0.0         0.0    0.0\n",
              "3    0.0  0.0        0.0          0.0  ...     0.0   0.0         0.0    0.0\n",
              "4    0.0  0.0        0.0          0.0  ...     0.0   0.0         0.0    0.0\n",
              "5    0.0  0.0        0.0          0.0  ...     0.0   0.0         0.0    0.0\n",
              "6    0.0  0.0        0.0          0.0  ...     0.0   0.0         0.0    0.0\n",
              "7    0.0  0.0        0.0          0.0  ...     0.0   0.0         0.0    0.0\n",
              "8    0.0  0.0        0.0          0.0  ...     0.0   0.0         0.0    0.0\n",
              "9    0.0  0.0        0.0          0.0  ...     0.0   0.0         0.0    0.0\n",
              "\n",
              "[10 rows x 26 columns]"
            ]
          },
          "metadata": {},
          "execution_count": 5
        }
      ],
      "source": [
        "#one hot encoder cho genre\n",
        "import numpy as np\n",
        "import pandas as pd\n",
        "from sklearn.preprocessing import OneHotEncoder\n",
        "\n",
        "onehot = OneHotEncoder(sparse=False,handle_unknown='ignore')\n",
        "encode= onehot.fit_transform(np.array(data['genre']).reshape(-1,1))\n",
        "#chuyển vector thành dạng bảng\n",
        "encode=pd.DataFrame(encode)\n",
        "#thêm tiêu đề cho cột\n",
        "encode.columns=df['genre'].unique()\n",
        "encode.head(10)"
      ]
    },
    {
      "cell_type": "code",
      "execution_count": null,
      "metadata": {
        "id": "RVss53sLCIrC"
      },
      "outputs": [],
      "source": [
        "df=df.drop(columns=['genre'])"
      ]
    },
    {
      "cell_type": "code",
      "execution_count": null,
      "metadata": {
        "id": "znUPFARWAT7s"
      },
      "outputs": [],
      "source": [
        "full_df=encode.merge(df,how='inner',left_index=True, right_index=True)"
      ]
    },
    {
      "cell_type": "markdown",
      "source": [
        "chúng ta sẽ dùng full_df để huấn luyện mô hình"
      ],
      "metadata": {
        "id": "carD7fbCyw6E"
      }
    },
    {
      "cell_type": "code",
      "source": [
        "full_df.head(5)"
      ],
      "metadata": {
        "colab": {
          "base_uri": "https://localhost:8080/",
          "height": 478
        },
        "id": "snf9TdQv5w5p",
        "outputId": "266f39d2-633a-436a-a39a-99ec1e45b36d"
      },
      "execution_count": null,
      "outputs": [
        {
          "output_type": "execute_result",
          "data": {
            "text/html": [
              "\n",
              "  <div id=\"df-36e17e7d-b1a6-4b0f-995f-4ddbcc77951a\">\n",
              "    <div class=\"colab-df-container\">\n",
              "      <div>\n",
              "<style scoped>\n",
              "    .dataframe tbody tr th:only-of-type {\n",
              "        vertical-align: middle;\n",
              "    }\n",
              "\n",
              "    .dataframe tbody tr th {\n",
              "        vertical-align: top;\n",
              "    }\n",
              "\n",
              "    .dataframe thead th {\n",
              "        text-align: right;\n",
              "    }\n",
              "</style>\n",
              "<table border=\"1\" class=\"dataframe\">\n",
              "  <thead>\n",
              "    <tr style=\"text-align: right;\">\n",
              "      <th></th>\n",
              "      <th>Movie</th>\n",
              "      <th>R&amp;B</th>\n",
              "      <th>A Capella</th>\n",
              "      <th>Alternative</th>\n",
              "      <th>Country</th>\n",
              "      <th>Dance</th>\n",
              "      <th>Electronic</th>\n",
              "      <th>Anime</th>\n",
              "      <th>Folk</th>\n",
              "      <th>Blues</th>\n",
              "      <th>Opera</th>\n",
              "      <th>Hip-Hop</th>\n",
              "      <th>Children's Music</th>\n",
              "      <th>Rap</th>\n",
              "      <th>Indie</th>\n",
              "      <th>Classical</th>\n",
              "      <th>Pop</th>\n",
              "      <th>Reggae</th>\n",
              "      <th>Reggaeton</th>\n",
              "      <th>Jazz</th>\n",
              "      <th>Rock</th>\n",
              "      <th>Ska</th>\n",
              "      <th>Comedy</th>\n",
              "      <th>Soul</th>\n",
              "      <th>Soundtrack</th>\n",
              "      <th>World</th>\n",
              "      <th>artist_name</th>\n",
              "      <th>track_name</th>\n",
              "      <th>popularity</th>\n",
              "      <th>acousticness</th>\n",
              "      <th>danceability</th>\n",
              "      <th>duration_ms</th>\n",
              "      <th>energy</th>\n",
              "      <th>instrumentalness</th>\n",
              "      <th>liveness</th>\n",
              "      <th>loudness</th>\n",
              "      <th>speechiness</th>\n",
              "      <th>tempo</th>\n",
              "      <th>valence</th>\n",
              "    </tr>\n",
              "  </thead>\n",
              "  <tbody>\n",
              "    <tr>\n",
              "      <th>0</th>\n",
              "      <td>0.0</td>\n",
              "      <td>0.0</td>\n",
              "      <td>0.0</td>\n",
              "      <td>0.0</td>\n",
              "      <td>0.0</td>\n",
              "      <td>0.0</td>\n",
              "      <td>0.0</td>\n",
              "      <td>0.0</td>\n",
              "      <td>0.0</td>\n",
              "      <td>0.0</td>\n",
              "      <td>0.0</td>\n",
              "      <td>0.0</td>\n",
              "      <td>0.0</td>\n",
              "      <td>0.0</td>\n",
              "      <td>1.0</td>\n",
              "      <td>0.0</td>\n",
              "      <td>0.0</td>\n",
              "      <td>0.0</td>\n",
              "      <td>0.0</td>\n",
              "      <td>0.0</td>\n",
              "      <td>0.0</td>\n",
              "      <td>0.0</td>\n",
              "      <td>0.0</td>\n",
              "      <td>0.0</td>\n",
              "      <td>0.0</td>\n",
              "      <td>0.0</td>\n",
              "      <td>Henri Salvador</td>\n",
              "      <td>C'est beau de faire un Show</td>\n",
              "      <td>-2.261007</td>\n",
              "      <td>0.683376</td>\n",
              "      <td>-0.890935</td>\n",
              "      <td>-1.141368</td>\n",
              "      <td>1.286908</td>\n",
              "      <td>-0.489819</td>\n",
              "      <td>0.660661</td>\n",
              "      <td>1.290703</td>\n",
              "      <td>-0.367970</td>\n",
              "      <td>1.595607</td>\n",
              "      <td>1.380744</td>\n",
              "    </tr>\n",
              "    <tr>\n",
              "      <th>1</th>\n",
              "      <td>0.0</td>\n",
              "      <td>0.0</td>\n",
              "      <td>0.0</td>\n",
              "      <td>0.0</td>\n",
              "      <td>0.0</td>\n",
              "      <td>0.0</td>\n",
              "      <td>0.0</td>\n",
              "      <td>0.0</td>\n",
              "      <td>0.0</td>\n",
              "      <td>0.0</td>\n",
              "      <td>0.0</td>\n",
              "      <td>0.0</td>\n",
              "      <td>0.0</td>\n",
              "      <td>0.0</td>\n",
              "      <td>1.0</td>\n",
              "      <td>0.0</td>\n",
              "      <td>0.0</td>\n",
              "      <td>0.0</td>\n",
              "      <td>0.0</td>\n",
              "      <td>0.0</td>\n",
              "      <td>0.0</td>\n",
              "      <td>0.0</td>\n",
              "      <td>0.0</td>\n",
              "      <td>0.0</td>\n",
              "      <td>0.0</td>\n",
              "      <td>0.0</td>\n",
              "      <td>Martin &amp; les fées</td>\n",
              "      <td>Perdu d'avance (par Gad Elmaleh)</td>\n",
              "      <td>-2.206031</td>\n",
              "      <td>-0.345467</td>\n",
              "      <td>0.191994</td>\n",
              "      <td>-0.821867</td>\n",
              "      <td>0.630249</td>\n",
              "      <td>-0.489819</td>\n",
              "      <td>-0.322835</td>\n",
              "      <td>0.668683</td>\n",
              "      <td>-0.183082</td>\n",
              "      <td>1.823253</td>\n",
              "      <td>1.388435</td>\n",
              "    </tr>\n",
              "    <tr>\n",
              "      <th>2</th>\n",
              "      <td>0.0</td>\n",
              "      <td>0.0</td>\n",
              "      <td>0.0</td>\n",
              "      <td>0.0</td>\n",
              "      <td>0.0</td>\n",
              "      <td>0.0</td>\n",
              "      <td>0.0</td>\n",
              "      <td>0.0</td>\n",
              "      <td>0.0</td>\n",
              "      <td>0.0</td>\n",
              "      <td>0.0</td>\n",
              "      <td>0.0</td>\n",
              "      <td>0.0</td>\n",
              "      <td>0.0</td>\n",
              "      <td>1.0</td>\n",
              "      <td>0.0</td>\n",
              "      <td>0.0</td>\n",
              "      <td>0.0</td>\n",
              "      <td>0.0</td>\n",
              "      <td>0.0</td>\n",
              "      <td>0.0</td>\n",
              "      <td>0.0</td>\n",
              "      <td>0.0</td>\n",
              "      <td>0.0</td>\n",
              "      <td>0.0</td>\n",
              "      <td>0.0</td>\n",
              "      <td>Joseph Williams</td>\n",
              "      <td>Don't Let Me Be Lonely Tonight</td>\n",
              "      <td>-2.096080</td>\n",
              "      <td>1.644570</td>\n",
              "      <td>0.585296</td>\n",
              "      <td>-0.545298</td>\n",
              "      <td>-1.669954</td>\n",
              "      <td>-0.489819</td>\n",
              "      <td>-0.564927</td>\n",
              "      <td>-0.718402</td>\n",
              "      <td>-0.455832</td>\n",
              "      <td>-0.588326</td>\n",
              "      <td>-0.334212</td>\n",
              "    </tr>\n",
              "    <tr>\n",
              "      <th>3</th>\n",
              "      <td>0.0</td>\n",
              "      <td>0.0</td>\n",
              "      <td>0.0</td>\n",
              "      <td>0.0</td>\n",
              "      <td>0.0</td>\n",
              "      <td>0.0</td>\n",
              "      <td>0.0</td>\n",
              "      <td>0.0</td>\n",
              "      <td>0.0</td>\n",
              "      <td>0.0</td>\n",
              "      <td>0.0</td>\n",
              "      <td>0.0</td>\n",
              "      <td>0.0</td>\n",
              "      <td>0.0</td>\n",
              "      <td>1.0</td>\n",
              "      <td>0.0</td>\n",
              "      <td>0.0</td>\n",
              "      <td>0.0</td>\n",
              "      <td>0.0</td>\n",
              "      <td>0.0</td>\n",
              "      <td>0.0</td>\n",
              "      <td>0.0</td>\n",
              "      <td>0.0</td>\n",
              "      <td>0.0</td>\n",
              "      <td>0.0</td>\n",
              "      <td>0.0</td>\n",
              "      <td>Henri Salvador</td>\n",
              "      <td>Dis-moi Monsieur Gordon Cooper</td>\n",
              "      <td>-2.261007</td>\n",
              "      <td>0.942701</td>\n",
              "      <td>-1.693703</td>\n",
              "      <td>-0.695295</td>\n",
              "      <td>-0.929789</td>\n",
              "      <td>-0.489819</td>\n",
              "      <td>-0.587623</td>\n",
              "      <td>-0.434817</td>\n",
              "      <td>-0.438044</td>\n",
              "      <td>1.750597</td>\n",
              "      <td>-0.876384</td>\n",
              "    </tr>\n",
              "    <tr>\n",
              "      <th>4</th>\n",
              "      <td>0.0</td>\n",
              "      <td>0.0</td>\n",
              "      <td>0.0</td>\n",
              "      <td>0.0</td>\n",
              "      <td>0.0</td>\n",
              "      <td>0.0</td>\n",
              "      <td>0.0</td>\n",
              "      <td>0.0</td>\n",
              "      <td>0.0</td>\n",
              "      <td>0.0</td>\n",
              "      <td>0.0</td>\n",
              "      <td>0.0</td>\n",
              "      <td>0.0</td>\n",
              "      <td>0.0</td>\n",
              "      <td>1.0</td>\n",
              "      <td>0.0</td>\n",
              "      <td>0.0</td>\n",
              "      <td>0.0</td>\n",
              "      <td>0.0</td>\n",
              "      <td>0.0</td>\n",
              "      <td>0.0</td>\n",
              "      <td>0.0</td>\n",
              "      <td>0.0</td>\n",
              "      <td>0.0</td>\n",
              "      <td>0.0</td>\n",
              "      <td>0.0</td>\n",
              "      <td>Fabien Nataf</td>\n",
              "      <td>Ouverture</td>\n",
              "      <td>-2.041104</td>\n",
              "      <td>1.638932</td>\n",
              "      <td>-1.203422</td>\n",
              "      <td>-1.282184</td>\n",
              "      <td>-1.313157</td>\n",
              "      <td>-0.083566</td>\n",
              "      <td>-0.065613</td>\n",
              "      <td>-1.930601</td>\n",
              "      <td>-0.405163</td>\n",
              "      <td>0.741433</td>\n",
              "      <td>-0.249618</td>\n",
              "    </tr>\n",
              "  </tbody>\n",
              "</table>\n",
              "</div>\n",
              "      <button class=\"colab-df-convert\" onclick=\"convertToInteractive('df-36e17e7d-b1a6-4b0f-995f-4ddbcc77951a')\"\n",
              "              title=\"Convert this dataframe to an interactive table.\"\n",
              "              style=\"display:none;\">\n",
              "        \n",
              "  <svg xmlns=\"http://www.w3.org/2000/svg\" height=\"24px\"viewBox=\"0 0 24 24\"\n",
              "       width=\"24px\">\n",
              "    <path d=\"M0 0h24v24H0V0z\" fill=\"none\"/>\n",
              "    <path d=\"M18.56 5.44l.94 2.06.94-2.06 2.06-.94-2.06-.94-.94-2.06-.94 2.06-2.06.94zm-11 1L8.5 8.5l.94-2.06 2.06-.94-2.06-.94L8.5 2.5l-.94 2.06-2.06.94zm10 10l.94 2.06.94-2.06 2.06-.94-2.06-.94-.94-2.06-.94 2.06-2.06.94z\"/><path d=\"M17.41 7.96l-1.37-1.37c-.4-.4-.92-.59-1.43-.59-.52 0-1.04.2-1.43.59L10.3 9.45l-7.72 7.72c-.78.78-.78 2.05 0 2.83L4 21.41c.39.39.9.59 1.41.59.51 0 1.02-.2 1.41-.59l7.78-7.78 2.81-2.81c.8-.78.8-2.07 0-2.86zM5.41 20L4 18.59l7.72-7.72 1.47 1.35L5.41 20z\"/>\n",
              "  </svg>\n",
              "      </button>\n",
              "      \n",
              "  <style>\n",
              "    .colab-df-container {\n",
              "      display:flex;\n",
              "      flex-wrap:wrap;\n",
              "      gap: 12px;\n",
              "    }\n",
              "\n",
              "    .colab-df-convert {\n",
              "      background-color: #E8F0FE;\n",
              "      border: none;\n",
              "      border-radius: 50%;\n",
              "      cursor: pointer;\n",
              "      display: none;\n",
              "      fill: #1967D2;\n",
              "      height: 32px;\n",
              "      padding: 0 0 0 0;\n",
              "      width: 32px;\n",
              "    }\n",
              "\n",
              "    .colab-df-convert:hover {\n",
              "      background-color: #E2EBFA;\n",
              "      box-shadow: 0px 1px 2px rgba(60, 64, 67, 0.3), 0px 1px 3px 1px rgba(60, 64, 67, 0.15);\n",
              "      fill: #174EA6;\n",
              "    }\n",
              "\n",
              "    [theme=dark] .colab-df-convert {\n",
              "      background-color: #3B4455;\n",
              "      fill: #D2E3FC;\n",
              "    }\n",
              "\n",
              "    [theme=dark] .colab-df-convert:hover {\n",
              "      background-color: #434B5C;\n",
              "      box-shadow: 0px 1px 3px 1px rgba(0, 0, 0, 0.15);\n",
              "      filter: drop-shadow(0px 1px 2px rgba(0, 0, 0, 0.3));\n",
              "      fill: #FFFFFF;\n",
              "    }\n",
              "  </style>\n",
              "\n",
              "      <script>\n",
              "        const buttonEl =\n",
              "          document.querySelector('#df-36e17e7d-b1a6-4b0f-995f-4ddbcc77951a button.colab-df-convert');\n",
              "        buttonEl.style.display =\n",
              "          google.colab.kernel.accessAllowed ? 'block' : 'none';\n",
              "\n",
              "        async function convertToInteractive(key) {\n",
              "          const element = document.querySelector('#df-36e17e7d-b1a6-4b0f-995f-4ddbcc77951a');\n",
              "          const dataTable =\n",
              "            await google.colab.kernel.invokeFunction('convertToInteractive',\n",
              "                                                     [key], {});\n",
              "          if (!dataTable) return;\n",
              "\n",
              "          const docLinkHtml = 'Like what you see? Visit the ' +\n",
              "            '<a target=\"_blank\" href=https://colab.research.google.com/notebooks/data_table.ipynb>data table notebook</a>'\n",
              "            + ' to learn more about interactive tables.';\n",
              "          element.innerHTML = '';\n",
              "          dataTable['output_type'] = 'display_data';\n",
              "          await google.colab.output.renderOutput(dataTable, element);\n",
              "          const docLink = document.createElement('div');\n",
              "          docLink.innerHTML = docLinkHtml;\n",
              "          element.appendChild(docLink);\n",
              "        }\n",
              "      </script>\n",
              "    </div>\n",
              "  </div>\n",
              "  "
            ],
            "text/plain": [
              "   Movie  R&B  A Capella  ...  speechiness     tempo   valence\n",
              "0    0.0  0.0        0.0  ...    -0.367970  1.595607  1.380744\n",
              "1    0.0  0.0        0.0  ...    -0.183082  1.823253  1.388435\n",
              "2    0.0  0.0        0.0  ...    -0.455832 -0.588326 -0.334212\n",
              "3    0.0  0.0        0.0  ...    -0.438044  1.750597 -0.876384\n",
              "4    0.0  0.0        0.0  ...    -0.405163  0.741433 -0.249618\n",
              "\n",
              "[5 rows x 39 columns]"
            ]
          },
          "metadata": {},
          "execution_count": 49
        }
      ]
    },
    {
      "cell_type": "markdown",
      "metadata": {
        "id": "cl62Sc4mtdAe"
      },
      "source": [
        "# I. K-Means\n"
      ]
    },
    {
      "cell_type": "code",
      "execution_count": null,
      "metadata": {
        "id": "E0ILZdQvtkui"
      },
      "outputs": [],
      "source": [
        "#thêm thư viện\n",
        "import numpy as np\n",
        "import matplotlib.pyplot as plt\n",
        "import seaborn as sns\n",
        "import pandas as pd\n",
        "from sklearn.cluster import KMeans\n",
        "from sklearn.metrics import silhouette_score\n",
        "from yellowbrick.cluster import SilhouetteVisualizer\n",
        "from sklearn.metrics.pairwise import cosine_similarity\n",
        "import warnings\n",
        "warnings.filterwarnings(\"ignore\")"
      ]
    },
    {
      "cell_type": "code",
      "execution_count": null,
      "metadata": {
        "id": "qOs3K2tglNpR"
      },
      "outputs": [],
      "source": [
        "#copy data full\n",
        "data_1=full_df.copy()\n",
        "#data drop 'track_name', 'artist_name'\n",
        "data_drop=data_1.copy()\n",
        "data_drop=data_drop.drop(columns=['artist_name', 'track_name'])"
      ]
    },
    {
      "cell_type": "code",
      "execution_count": null,
      "metadata": {
        "colab": {
          "base_uri": "https://localhost:8080/",
          "height": 349
        },
        "id": "T0GhXCyl85Ny",
        "outputId": "d30c66a4-cde4-411d-9332-05a774bfc56f"
      },
      "outputs": [
        {
          "output_type": "display_data",
          "data": {
            "image/png": "[encoded data removed]",
            "text/plain": [
              "<Figure size 720x360 with 1 Axes>"
            ]
          },
          "metadata": {}
        }
      ],
      "source": [
        "# hàm vẽ biểu đồ tìm điểm elbow\n",
        "def visualize_elbow(num_clusters,data_):\n",
        "  array_inertia=[]\n",
        "  for i in range(1,num_clusters+1):\n",
        "    kmeans = KMeans(n_clusters=i, init = 'k-means++', random_state=42).fit(data_)\n",
        "    array_inertia.append(kmeans.inertia_)\n",
        "  #ve bieu do    \n",
        "  \n",
        "  plt.figure(figsize=(10,5))\n",
        "  sns.lineplot(range(1, num_clusters+1), array_inertia,marker='o',color='orange')\n",
        "  plt.title('Elbow')\n",
        "  plt.xlabel('num cluster')\n",
        "  plt.ylabel('inertia')\n",
        "  plt.show()\n",
        "#gọi hàm\n",
        "visualize_elbow(30,data_drop)"
      ]
    },
    {
      "cell_type": "code",
      "execution_count": null,
      "metadata": {
        "id": "fd-NuOVQeDLq"
      },
      "outputs": [],
      "source": [
        "#Hàm vẽ biểu đồ silhouette score\n",
        "#Hệ số Silhouette chỉ được xác định nếu số lượng nhãn là 2 <= n_labels <= n_samples - 1\n",
        "def visualize_silhouette_score(start_,end_,data_):\n",
        "  array_silhouette_score = []\n",
        "  for i in range(start_,end_+1):\n",
        "    kmeans = KMeans(n_clusters=i, init = 'k-means++', random_state=42)\n",
        "    pred_ = kmeans.fit_predict(data_)\n",
        "    score_=silhouette_score(data_,pred_)\n",
        "    array_silhouette_score.append(score_)\n",
        "\n",
        "  #ve bieu do    \n",
        "  plt.figure(figsize=(15,10))\n",
        "  sns.lineplot(range(start_,end_+1), array_silhouette_score, marker='o', color='orange')\n",
        "  plt.xlabel('num cluster')\n",
        "  plt.ylabel('silhouette score')\n",
        "  plt.show()"
      ]
    },
    {
      "cell_type": "code",
      "execution_count": null,
      "metadata": {
        "colab": {
          "base_uri": "https://localhost:8080/",
          "height": 661
        },
        "id": "wljxkvhZtVr8",
        "outputId": "9886a481-3521-438a-90cd-f544adf1ab4a"
      },
      "outputs": [
        {
          "name": "stderr",
          "output_type": "stream",
          "text": [
            "/usr/local/lib/python3.7/dist-packages/seaborn/_decorators.py:43: FutureWarning: Pass the following variables as keyword args: x, y. From version 0.12, the only valid positional argument will be `data`, and passing other arguments without an explicit keyword will result in an error or misinterpretation.\n",
            "  FutureWarning\n"
          ]
        },
        {
          "data": {
            "image/png": "[encoded data removed]",
            "text/plain": [
              "<Figure size 1080x720 with 1 Axes>"
            ]
          },
          "metadata": {},
          "output_type": "display_data"
        }
      ],
      "source": [
        "visualize_silhouette_score(2,5,data_1)"
      ]
    },
    {
      "cell_type": "code",
      "execution_count": null,
      "metadata": {
        "colab": {
          "base_uri": "https://localhost:8080/",
          "height": 661
        },
        "id": "rpBIxozoeH35",
        "outputId": "4d9b9df6-4716-41e6-d7da-9662474f8de8"
      },
      "outputs": [
        {
          "name": "stderr",
          "output_type": "stream",
          "text": [
            "/usr/local/lib/python3.7/dist-packages/seaborn/_decorators.py:43: FutureWarning: Pass the following variables as keyword args: x, y. From version 0.12, the only valid positional argument will be `data`, and passing other arguments without an explicit keyword will result in an error or misinterpretation.\n",
            "  FutureWarning\n"
          ]
        },
        {
          "data": {
            "image/png": "[encoded data removed]",
            "text/plain": [
              "<Figure size 1080x720 with 1 Axes>"
            ]
          },
          "metadata": {},
          "output_type": "display_data"
        }
      ],
      "source": [
        "visualize_silhouette_score(5,10,data_1)"
      ]
    },
    {
      "cell_type": "code",
      "execution_count": null,
      "metadata": {
        "colab": {
          "base_uri": "https://localhost:8080/",
          "height": 661
        },
        "id": "emnI1vioDtXt",
        "outputId": "6b9f2911-bb44-4f3f-8281-d0589bc19560"
      },
      "outputs": [
        {
          "name": "stderr",
          "output_type": "stream",
          "text": [
            "/usr/local/lib/python3.7/dist-packages/seaborn/_decorators.py:43: FutureWarning: Pass the following variables as keyword args: x, y. From version 0.12, the only valid positional argument will be `data`, and passing other arguments without an explicit keyword will result in an error or misinterpretation.\n",
            "  FutureWarning\n"
          ]
        },
        {
          "data": {
            "image/png": "[encoded data removed]",
            "text/plain": [
              "<Figure size 1080x720 with 1 Axes>"
            ]
          },
          "metadata": {},
          "output_type": "display_data"
        }
      ],
      "source": [
        "visualize_silhouette_score(10,20,data_drop)"
      ]
    },
    {
      "cell_type": "code",
      "source": [
        "#Visualize Silhouette\n",
        "def SilhouetteVisualize_(num_cluster,data_):\n",
        "  kmeans = KMeans(n_clusters=num_cluster, init = 'k-means++', random_state=42)\n",
        "  visualizer = SilhouetteVisualizer(kmeans, colors='yellowbrick')\n",
        "  visualizer.fit(data_)\n",
        "  visualizer.show()  "
      ],
      "metadata": {
        "id": "VQ9ulJ-D5s6r"
      },
      "execution_count": null,
      "outputs": []
    },
    {
      "cell_type": "code",
      "execution_count": null,
      "metadata": {
        "colab": {
          "base_uri": "https://localhost:8080/",
          "height": 294
        },
        "id": "FXxLuhbm55q_",
        "outputId": "ab99de11-d887-4563-b964-1ecf23b05b36"
      },
      "outputs": [
        {
          "output_type": "display_data",
          "data": {
            "image/png": "[encoded data removed]",
            "text/plain": [
              "<Figure size 432x288 with 1 Axes>"
            ]
          },
          "metadata": {
            "needs_background": "light"
          }
        }
      ],
      "source": [
        "SilhouetteVisualize_(3,data_drop)"
      ]
    },
    {
      "cell_type": "code",
      "source": [
        "SilhouetteVisualize_(5,data_drop)"
      ],
      "metadata": {
        "colab": {
          "base_uri": "https://localhost:8080/",
          "height": 294
        },
        "id": "9hbWaTAUCXMw",
        "outputId": "b60db500-f2b5-4dfb-bd04-ebcc1dae4206"
      },
      "execution_count": null,
      "outputs": [
        {
          "output_type": "display_data",
          "data": {
            "image/png": "[encoded data removed]",
            "text/plain": [
              "<Figure size 432x288 with 1 Axes>"
            ]
          },
          "metadata": {
            "needs_background": "light"
          }
        }
      ]
    },
    {
      "cell_type": "code",
      "source": [
        "SilhouetteVisualize_(10,data_drop)"
      ],
      "metadata": {
        "colab": {
          "base_uri": "https://localhost:8080/",
          "height": 294
        },
        "id": "PIwTHW-VCY3a",
        "outputId": "29f8830d-3e8e-4451-a87a-3410c447ead2"
      },
      "execution_count": null,
      "outputs": [
        {
          "output_type": "display_data",
          "data": {
            "image/png": "[encoded data removed]",
            "text/plain": [
              "<Figure size 432x288 with 1 Axes>"
            ]
          },
          "metadata": {
            "needs_background": "light"
          }
        }
      ]
    },
    {
      "cell_type": "code",
      "source": [
        "SilhouetteVisualize_(15,data_drop)"
      ],
      "metadata": {
        "colab": {
          "base_uri": "https://localhost:8080/",
          "height": 294
        },
        "id": "B8O6E76oTxd6",
        "outputId": "c4f62ff1-b2d9-486d-9dff-fcfed744fd7f"
      },
      "execution_count": null,
      "outputs": [
        {
          "output_type": "display_data",
          "data": {
            "image/png": "[encoded data removed]",
            "text/plain": [
              "<Figure size 432x288 with 1 Axes>"
            ]
          },
          "metadata": {
            "needs_background": "light"
          }
        }
      ]
    },
    {
      "cell_type": "markdown",
      "source": [
        "Chọn num_clust=15. Tiến hành phân cụm"
      ],
      "metadata": {
        "id": "zQRcnNeRm4i4"
      }
    },
    {
      "cell_type": "code",
      "source": [
        "num_clust = 15\n",
        "kmeans = KMeans(n_clusters = num_clust, init = 'k-means++', random_state = 42)\n",
        "pred_ = kmeans.fit_predict(data_drop)\n",
        "data_1.loc[:, 'cluster'] = pred_"
      ],
      "metadata": {
        "id": "pleLku8BqV7S"
      },
      "execution_count": null,
      "outputs": []
    },
    {
      "cell_type": "code",
      "source": [
        "temp_1=data_1.groupby(['cluster']).size().reset_index(name='quantity')\n",
        "plt.figure(figsize=(19,8))\n",
        "plt.xticks(rotation=45)\n",
        "sns.set_style(\"ticks\")\n",
        "\n",
        "sns.barplot(data = temp_1, x= 'cluster', y= 'quantity')"
      ],
      "metadata": {
        "colab": {
          "base_uri": "https://localhost:8080/",
          "height": 520
        },
        "id": "k1GVrxam3CEJ",
        "outputId": "9fdeba21-11d2-4aad-f934-cea34e1cb8d5"
      },
      "execution_count": null,
      "outputs": [
        {
          "output_type": "execute_result",
          "data": {
            "text/plain": [
              "<matplotlib.axes._subplots.AxesSubplot at 0x7efdd8fd0390>"
            ]
          },
          "metadata": {},
          "execution_count": 42
        },
        {
          "output_type": "display_data",
          "data": {
            "image/png": "[encoded data removed]",
            "text/plain": [
              "<Figure size 1368x576 with 1 Axes>"
            ]
          },
          "metadata": {}
        }
      ]
    },
    {
      "cell_type": "code",
      "execution_count": null,
      "metadata": {
        "id": "rrXTVEG2OKix",
        "colab": {
          "base_uri": "https://localhost:8080/",
          "height": 478
        },
        "outputId": "6fc79ab1-ef01-4cef-e3f4-b4a860e023f7"
      },
      "outputs": [
        {
          "output_type": "execute_result",
          "data": {
            "text/html": [
              "\n",
              "  <div id=\"df-5b0ea384-bf4a-4e67-ad1d-d75a23e3255d\">\n",
              "    <div class=\"colab-df-container\">\n",
              "      <div>\n",
              "<style scoped>\n",
              "    .dataframe tbody tr th:only-of-type {\n",
              "        vertical-align: middle;\n",
              "    }\n",
              "\n",
              "    .dataframe tbody tr th {\n",
              "        vertical-align: top;\n",
              "    }\n",
              "\n",
              "    .dataframe thead th {\n",
              "        text-align: right;\n",
              "    }\n",
              "</style>\n",
              "<table border=\"1\" class=\"dataframe\">\n",
              "  <thead>\n",
              "    <tr style=\"text-align: right;\">\n",
              "      <th></th>\n",
              "      <th>Movie</th>\n",
              "      <th>R&amp;B</th>\n",
              "      <th>A Capella</th>\n",
              "      <th>Alternative</th>\n",
              "      <th>Country</th>\n",
              "      <th>Dance</th>\n",
              "      <th>Electronic</th>\n",
              "      <th>Anime</th>\n",
              "      <th>Folk</th>\n",
              "      <th>Blues</th>\n",
              "      <th>Opera</th>\n",
              "      <th>Hip-Hop</th>\n",
              "      <th>Children's Music</th>\n",
              "      <th>Rap</th>\n",
              "      <th>Indie</th>\n",
              "      <th>Classical</th>\n",
              "      <th>Pop</th>\n",
              "      <th>Reggae</th>\n",
              "      <th>Reggaeton</th>\n",
              "      <th>Jazz</th>\n",
              "      <th>Rock</th>\n",
              "      <th>Ska</th>\n",
              "      <th>Comedy</th>\n",
              "      <th>Soul</th>\n",
              "      <th>Soundtrack</th>\n",
              "      <th>World</th>\n",
              "      <th>artist_name</th>\n",
              "      <th>track_name</th>\n",
              "      <th>popularity</th>\n",
              "      <th>acousticness</th>\n",
              "      <th>danceability</th>\n",
              "      <th>duration_ms</th>\n",
              "      <th>energy</th>\n",
              "      <th>instrumentalness</th>\n",
              "      <th>liveness</th>\n",
              "      <th>loudness</th>\n",
              "      <th>speechiness</th>\n",
              "      <th>tempo</th>\n",
              "      <th>valence</th>\n",
              "      <th>cluster</th>\n",
              "    </tr>\n",
              "  </thead>\n",
              "  <tbody>\n",
              "    <tr>\n",
              "      <th>0</th>\n",
              "      <td>0.0</td>\n",
              "      <td>0.0</td>\n",
              "      <td>0.0</td>\n",
              "      <td>0.0</td>\n",
              "      <td>0.0</td>\n",
              "      <td>0.0</td>\n",
              "      <td>0.0</td>\n",
              "      <td>0.0</td>\n",
              "      <td>0.0</td>\n",
              "      <td>0.0</td>\n",
              "      <td>0.0</td>\n",
              "      <td>0.0</td>\n",
              "      <td>0.0</td>\n",
              "      <td>0.0</td>\n",
              "      <td>1.0</td>\n",
              "      <td>0.0</td>\n",
              "      <td>0.0</td>\n",
              "      <td>0.0</td>\n",
              "      <td>0.0</td>\n",
              "      <td>0.0</td>\n",
              "      <td>0.0</td>\n",
              "      <td>0.0</td>\n",
              "      <td>0.0</td>\n",
              "      <td>0.0</td>\n",
              "      <td>0.0</td>\n",
              "      <td>0.0</td>\n",
              "      <td>Henri Salvador</td>\n",
              "      <td>C'est beau de faire un Show</td>\n",
              "      <td>-2.261007</td>\n",
              "      <td>0.683376</td>\n",
              "      <td>-0.890935</td>\n",
              "      <td>-1.141368</td>\n",
              "      <td>1.286908</td>\n",
              "      <td>-0.489819</td>\n",
              "      <td>0.660661</td>\n",
              "      <td>1.290703</td>\n",
              "      <td>-0.367970</td>\n",
              "      <td>1.595607</td>\n",
              "      <td>1.380744</td>\n",
              "      <td>7</td>\n",
              "    </tr>\n",
              "    <tr>\n",
              "      <th>1</th>\n",
              "      <td>0.0</td>\n",
              "      <td>0.0</td>\n",
              "      <td>0.0</td>\n",
              "      <td>0.0</td>\n",
              "      <td>0.0</td>\n",
              "      <td>0.0</td>\n",
              "      <td>0.0</td>\n",
              "      <td>0.0</td>\n",
              "      <td>0.0</td>\n",
              "      <td>0.0</td>\n",
              "      <td>0.0</td>\n",
              "      <td>0.0</td>\n",
              "      <td>0.0</td>\n",
              "      <td>0.0</td>\n",
              "      <td>1.0</td>\n",
              "      <td>0.0</td>\n",
              "      <td>0.0</td>\n",
              "      <td>0.0</td>\n",
              "      <td>0.0</td>\n",
              "      <td>0.0</td>\n",
              "      <td>0.0</td>\n",
              "      <td>0.0</td>\n",
              "      <td>0.0</td>\n",
              "      <td>0.0</td>\n",
              "      <td>0.0</td>\n",
              "      <td>0.0</td>\n",
              "      <td>Martin &amp; les fées</td>\n",
              "      <td>Perdu d'avance (par Gad Elmaleh)</td>\n",
              "      <td>-2.206031</td>\n",
              "      <td>-0.345467</td>\n",
              "      <td>0.191994</td>\n",
              "      <td>-0.821867</td>\n",
              "      <td>0.630249</td>\n",
              "      <td>-0.489819</td>\n",
              "      <td>-0.322835</td>\n",
              "      <td>0.668683</td>\n",
              "      <td>-0.183082</td>\n",
              "      <td>1.823253</td>\n",
              "      <td>1.388435</td>\n",
              "      <td>7</td>\n",
              "    </tr>\n",
              "    <tr>\n",
              "      <th>2</th>\n",
              "      <td>0.0</td>\n",
              "      <td>0.0</td>\n",
              "      <td>0.0</td>\n",
              "      <td>0.0</td>\n",
              "      <td>0.0</td>\n",
              "      <td>0.0</td>\n",
              "      <td>0.0</td>\n",
              "      <td>0.0</td>\n",
              "      <td>0.0</td>\n",
              "      <td>0.0</td>\n",
              "      <td>0.0</td>\n",
              "      <td>0.0</td>\n",
              "      <td>0.0</td>\n",
              "      <td>0.0</td>\n",
              "      <td>1.0</td>\n",
              "      <td>0.0</td>\n",
              "      <td>0.0</td>\n",
              "      <td>0.0</td>\n",
              "      <td>0.0</td>\n",
              "      <td>0.0</td>\n",
              "      <td>0.0</td>\n",
              "      <td>0.0</td>\n",
              "      <td>0.0</td>\n",
              "      <td>0.0</td>\n",
              "      <td>0.0</td>\n",
              "      <td>0.0</td>\n",
              "      <td>Joseph Williams</td>\n",
              "      <td>Don't Let Me Be Lonely Tonight</td>\n",
              "      <td>-2.096080</td>\n",
              "      <td>1.644570</td>\n",
              "      <td>0.585296</td>\n",
              "      <td>-0.545298</td>\n",
              "      <td>-1.669954</td>\n",
              "      <td>-0.489819</td>\n",
              "      <td>-0.564927</td>\n",
              "      <td>-0.718402</td>\n",
              "      <td>-0.455832</td>\n",
              "      <td>-0.588326</td>\n",
              "      <td>-0.334212</td>\n",
              "      <td>13</td>\n",
              "    </tr>\n",
              "    <tr>\n",
              "      <th>3</th>\n",
              "      <td>0.0</td>\n",
              "      <td>0.0</td>\n",
              "      <td>0.0</td>\n",
              "      <td>0.0</td>\n",
              "      <td>0.0</td>\n",
              "      <td>0.0</td>\n",
              "      <td>0.0</td>\n",
              "      <td>0.0</td>\n",
              "      <td>0.0</td>\n",
              "      <td>0.0</td>\n",
              "      <td>0.0</td>\n",
              "      <td>0.0</td>\n",
              "      <td>0.0</td>\n",
              "      <td>0.0</td>\n",
              "      <td>1.0</td>\n",
              "      <td>0.0</td>\n",
              "      <td>0.0</td>\n",
              "      <td>0.0</td>\n",
              "      <td>0.0</td>\n",
              "      <td>0.0</td>\n",
              "      <td>0.0</td>\n",
              "      <td>0.0</td>\n",
              "      <td>0.0</td>\n",
              "      <td>0.0</td>\n",
              "      <td>0.0</td>\n",
              "      <td>0.0</td>\n",
              "      <td>Henri Salvador</td>\n",
              "      <td>Dis-moi Monsieur Gordon Cooper</td>\n",
              "      <td>-2.261007</td>\n",
              "      <td>0.942701</td>\n",
              "      <td>-1.693703</td>\n",
              "      <td>-0.695295</td>\n",
              "      <td>-0.929789</td>\n",
              "      <td>-0.489819</td>\n",
              "      <td>-0.587623</td>\n",
              "      <td>-0.434817</td>\n",
              "      <td>-0.438044</td>\n",
              "      <td>1.750597</td>\n",
              "      <td>-0.876384</td>\n",
              "      <td>14</td>\n",
              "    </tr>\n",
              "    <tr>\n",
              "      <th>4</th>\n",
              "      <td>0.0</td>\n",
              "      <td>0.0</td>\n",
              "      <td>0.0</td>\n",
              "      <td>0.0</td>\n",
              "      <td>0.0</td>\n",
              "      <td>0.0</td>\n",
              "      <td>0.0</td>\n",
              "      <td>0.0</td>\n",
              "      <td>0.0</td>\n",
              "      <td>0.0</td>\n",
              "      <td>0.0</td>\n",
              "      <td>0.0</td>\n",
              "      <td>0.0</td>\n",
              "      <td>0.0</td>\n",
              "      <td>1.0</td>\n",
              "      <td>0.0</td>\n",
              "      <td>0.0</td>\n",
              "      <td>0.0</td>\n",
              "      <td>0.0</td>\n",
              "      <td>0.0</td>\n",
              "      <td>0.0</td>\n",
              "      <td>0.0</td>\n",
              "      <td>0.0</td>\n",
              "      <td>0.0</td>\n",
              "      <td>0.0</td>\n",
              "      <td>0.0</td>\n",
              "      <td>Fabien Nataf</td>\n",
              "      <td>Ouverture</td>\n",
              "      <td>-2.041104</td>\n",
              "      <td>1.638932</td>\n",
              "      <td>-1.203422</td>\n",
              "      <td>-1.282184</td>\n",
              "      <td>-1.313157</td>\n",
              "      <td>-0.083566</td>\n",
              "      <td>-0.065613</td>\n",
              "      <td>-1.930601</td>\n",
              "      <td>-0.405163</td>\n",
              "      <td>0.741433</td>\n",
              "      <td>-0.249618</td>\n",
              "      <td>14</td>\n",
              "    </tr>\n",
              "  </tbody>\n",
              "</table>\n",
              "</div>\n",
              "      <button class=\"colab-df-convert\" onclick=\"convertToInteractive('df-5b0ea384-bf4a-4e67-ad1d-d75a23e3255d')\"\n",
              "              title=\"Convert this dataframe to an interactive table.\"\n",
              "              style=\"display:none;\">\n",
              "        \n",
              "  <svg xmlns=\"http://www.w3.org/2000/svg\" height=\"24px\"viewBox=\"0 0 24 24\"\n",
              "       width=\"24px\">\n",
              "    <path d=\"M0 0h24v24H0V0z\" fill=\"none\"/>\n",
              "    <path d=\"M18.56 5.44l.94 2.06.94-2.06 2.06-.94-2.06-.94-.94-2.06-.94 2.06-2.06.94zm-11 1L8.5 8.5l.94-2.06 2.06-.94-2.06-.94L8.5 2.5l-.94 2.06-2.06.94zm10 10l.94 2.06.94-2.06 2.06-.94-2.06-.94-.94-2.06-.94 2.06-2.06.94z\"/><path d=\"M17.41 7.96l-1.37-1.37c-.4-.4-.92-.59-1.43-.59-.52 0-1.04.2-1.43.59L10.3 9.45l-7.72 7.72c-.78.78-.78 2.05 0 2.83L4 21.41c.39.39.9.59 1.41.59.51 0 1.02-.2 1.41-.59l7.78-7.78 2.81-2.81c.8-.78.8-2.07 0-2.86zM5.41 20L4 18.59l7.72-7.72 1.47 1.35L5.41 20z\"/>\n",
              "  </svg>\n",
              "      </button>\n",
              "      \n",
              "  <style>\n",
              "    .colab-df-container {\n",
              "      display:flex;\n",
              "      flex-wrap:wrap;\n",
              "      gap: 12px;\n",
              "    }\n",
              "\n",
              "    .colab-df-convert {\n",
              "      background-color: #E8F0FE;\n",
              "      border: none;\n",
              "      border-radius: 50%;\n",
              "      cursor: pointer;\n",
              "      display: none;\n",
              "      fill: #1967D2;\n",
              "      height: 32px;\n",
              "      padding: 0 0 0 0;\n",
              "      width: 32px;\n",
              "    }\n",
              "\n",
              "    .colab-df-convert:hover {\n",
              "      background-color: #E2EBFA;\n",
              "      box-shadow: 0px 1px 2px rgba(60, 64, 67, 0.3), 0px 1px 3px 1px rgba(60, 64, 67, 0.15);\n",
              "      fill: #174EA6;\n",
              "    }\n",
              "\n",
              "    [theme=dark] .colab-df-convert {\n",
              "      background-color: #3B4455;\n",
              "      fill: #D2E3FC;\n",
              "    }\n",
              "\n",
              "    [theme=dark] .colab-df-convert:hover {\n",
              "      background-color: #434B5C;\n",
              "      box-shadow: 0px 1px 3px 1px rgba(0, 0, 0, 0.15);\n",
              "      filter: drop-shadow(0px 1px 2px rgba(0, 0, 0, 0.3));\n",
              "      fill: #FFFFFF;\n",
              "    }\n",
              "  </style>\n",
              "\n",
              "      <script>\n",
              "        const buttonEl =\n",
              "          document.querySelector('#df-5b0ea384-bf4a-4e67-ad1d-d75a23e3255d button.colab-df-convert');\n",
              "        buttonEl.style.display =\n",
              "          google.colab.kernel.accessAllowed ? 'block' : 'none';\n",
              "\n",
              "        async function convertToInteractive(key) {\n",
              "          const element = document.querySelector('#df-5b0ea384-bf4a-4e67-ad1d-d75a23e3255d');\n",
              "          const dataTable =\n",
              "            await google.colab.kernel.invokeFunction('convertToInteractive',\n",
              "                                                     [key], {});\n",
              "          if (!dataTable) return;\n",
              "\n",
              "          const docLinkHtml = 'Like what you see? Visit the ' +\n",
              "            '<a target=\"_blank\" href=https://colab.research.google.com/notebooks/data_table.ipynb>data table notebook</a>'\n",
              "            + ' to learn more about interactive tables.';\n",
              "          element.innerHTML = '';\n",
              "          dataTable['output_type'] = 'display_data';\n",
              "          await google.colab.output.renderOutput(dataTable, element);\n",
              "          const docLink = document.createElement('div');\n",
              "          docLink.innerHTML = docLinkHtml;\n",
              "          element.appendChild(docLink);\n",
              "        }\n",
              "      </script>\n",
              "    </div>\n",
              "  </div>\n",
              "  "
            ],
            "text/plain": [
              "   Movie  R&B  A Capella  Alternative  ...  speechiness     tempo   valence  cluster\n",
              "0    0.0  0.0        0.0          0.0  ...    -0.367970  1.595607  1.380744        7\n",
              "1    0.0  0.0        0.0          0.0  ...    -0.183082  1.823253  1.388435        7\n",
              "2    0.0  0.0        0.0          0.0  ...    -0.455832 -0.588326 -0.334212       13\n",
              "3    0.0  0.0        0.0          0.0  ...    -0.438044  1.750597 -0.876384       14\n",
              "4    0.0  0.0        0.0          0.0  ...    -0.405163  0.741433 -0.249618       14\n",
              "\n",
              "[5 rows x 40 columns]"
            ]
          },
          "metadata": {},
          "execution_count": 18
        }
      ],
      "source": [
        "data_1.head(5)"
      ]
    },
    {
      "cell_type": "markdown",
      "source": [
        "# II. Gausian Mixture (GMM)\n"
      ],
      "metadata": {
        "id": "7V6Lx9gm-BLT"
      }
    },
    {
      "cell_type": "code",
      "source": [
        "#thu vien\n",
        "from sklearn.mixture import GaussianMixture"
      ],
      "metadata": {
        "id": "7jilPrd2YRFk"
      },
      "execution_count": null,
      "outputs": []
    },
    {
      "cell_type": "code",
      "source": [
        "#copy data full\n",
        "data_2=full_df.copy()\n",
        "#data drop 'track_name', 'artist_name'\n",
        "data_drop_2=data_2.copy()\n",
        "data_drop_2=data_drop_2.drop(columns=['artist_name', 'track_name'])"
      ],
      "metadata": {
        "id": "hxiHxvYzi-Pw"
      },
      "execution_count": null,
      "outputs": []
    },
    {
      "cell_type": "code",
      "source": [
        "#Hàm vẽ biểu đồ BIC AIC\n",
        "def visualize_BIC_AIC_score(start_,end_,data_):\n",
        "  array_n_components = np.arange(start_, end_+1)\n",
        "  array_BIC_score = []\n",
        "  array_AIC_score = []\n",
        "  for i in range(start_,end_+1):\n",
        "    gm = GaussianMixture(n_components=i, random_state=42).fit(data_)\n",
        "    bic_score = gm.bic(data_)\n",
        "    aic_score = gm.aic(data_)\n",
        "    array_BIC_score.append(bic_score)\n",
        "    array_AIC_score.append(aic_score)\n",
        "  #tao dataframe\n",
        "  gmm_comparisons=pd.DataFrame({\"n_components\" : array_n_components, \"BIC\" : array_BIC_score , \"AIC\" : array_AIC_score})\n",
        "  #ve bieu do    \n",
        "  plt.figure(figsize=(15,10))\n",
        "  sns.lineplot(data=gmm_comparisons[[\"BIC\",\"AIC\"]],marker='o',color='orange')\n",
        "  plt.xlabel(\"Number of Clusters\")\n",
        "  plt.ylabel(\"Score\")\n",
        "  plt.show()"
      ],
      "metadata": {
        "id": "NDg-dRVq-GIx"
      },
      "execution_count": null,
      "outputs": []
    },
    {
      "cell_type": "code",
      "source": [
        "visualize_BIC_AIC_score(1,30,data_drop_2)"
      ],
      "metadata": {
        "colab": {
          "base_uri": "https://localhost:8080/",
          "height": 616
        },
        "id": "NaRxbWTPi3oA",
        "outputId": "342e25e5-2017-465c-e282-453f00315ec9"
      },
      "execution_count": null,
      "outputs": [
        {
          "output_type": "display_data",
          "data": {
            "image/png": "[encoded data removed]",
            "text/plain": [
              "<Figure size 1080x720 with 1 Axes>"
            ]
          },
          "metadata": {}
        }
      ]
    },
    {
      "cell_type": "markdown",
      "source": [
        "Chọn n_components= 15\n",
        "\n",
        "Tiến hành phân cụm"
      ],
      "metadata": {
        "id": "cRC5hXeXmWGk"
      }
    },
    {
      "cell_type": "code",
      "source": [
        "num_clust = 15\n",
        "gm = GaussianMixture(n_components=num_clust, random_state=42).fit(data_drop_2)\n",
        "gm_pred = gm.predict(data_drop_2)\n",
        "data_2.loc[:, 'cluster'] = gm_pred"
      ],
      "metadata": {
        "id": "UTX6MD3_mQ71"
      },
      "execution_count": null,
      "outputs": []
    },
    {
      "cell_type": "code",
      "source": [
        "temp=data_2.groupby(['cluster']).size().reset_index(name='quantity')\n",
        "plt.figure(figsize=(19,8))\n",
        "plt.xticks(rotation=45)\n",
        "sns.set_style(\"ticks\")\n",
        "\n",
        "sns.barplot(data = temp, x= 'cluster', y= 'quantity')"
      ],
      "metadata": {
        "colab": {
          "base_uri": "https://localhost:8080/",
          "height": 520
        },
        "id": "8TVcf7AHznh1",
        "outputId": "ebb61d22-140f-44b0-e101-8caa7e909f49"
      },
      "execution_count": null,
      "outputs": [
        {
          "output_type": "execute_result",
          "data": {
            "text/plain": [
              "<matplotlib.axes._subplots.AxesSubplot at 0x7efdd75aa0d0>"
            ]
          },
          "metadata": {},
          "execution_count": 47
        },
        {
          "output_type": "display_data",
          "data": {
            "image/png": "[encoded data removed]",
            "text/plain": [
              "<Figure size 1368x576 with 1 Axes>"
            ]
          },
          "metadata": {}
        }
      ]
    },
    {
      "cell_type": "code",
      "source": [
        "data_2.head(5)"
      ],
      "metadata": {
        "colab": {
          "base_uri": "https://localhost:8080/",
          "height": 478
        },
        "id": "p7AktNQ_nBR3",
        "outputId": "3ecc3737-f1c0-4637-da28-020cd7fa790c"
      },
      "execution_count": null,
      "outputs": [
        {
          "output_type": "execute_result",
          "data": {
            "text/html": [
              "\n",
              "  <div id=\"df-65313d6b-0a36-4d1a-b86e-9bc2b025556c\">\n",
              "    <div class=\"colab-df-container\">\n",
              "      <div>\n",
              "<style scoped>\n",
              "    .dataframe tbody tr th:only-of-type {\n",
              "        vertical-align: middle;\n",
              "    }\n",
              "\n",
              "    .dataframe tbody tr th {\n",
              "        vertical-align: top;\n",
              "    }\n",
              "\n",
              "    .dataframe thead th {\n",
              "        text-align: right;\n",
              "    }\n",
              "</style>\n",
              "<table border=\"1\" class=\"dataframe\">\n",
              "  <thead>\n",
              "    <tr style=\"text-align: right;\">\n",
              "      <th></th>\n",
              "      <th>Movie</th>\n",
              "      <th>R&amp;B</th>\n",
              "      <th>A Capella</th>\n",
              "      <th>Alternative</th>\n",
              "      <th>Country</th>\n",
              "      <th>Dance</th>\n",
              "      <th>Electronic</th>\n",
              "      <th>Anime</th>\n",
              "      <th>Folk</th>\n",
              "      <th>Blues</th>\n",
              "      <th>Opera</th>\n",
              "      <th>Hip-Hop</th>\n",
              "      <th>Children's Music</th>\n",
              "      <th>Rap</th>\n",
              "      <th>Indie</th>\n",
              "      <th>Classical</th>\n",
              "      <th>Pop</th>\n",
              "      <th>Reggae</th>\n",
              "      <th>Reggaeton</th>\n",
              "      <th>Jazz</th>\n",
              "      <th>Rock</th>\n",
              "      <th>Ska</th>\n",
              "      <th>Comedy</th>\n",
              "      <th>Soul</th>\n",
              "      <th>Soundtrack</th>\n",
              "      <th>World</th>\n",
              "      <th>artist_name</th>\n",
              "      <th>track_name</th>\n",
              "      <th>popularity</th>\n",
              "      <th>acousticness</th>\n",
              "      <th>danceability</th>\n",
              "      <th>duration_ms</th>\n",
              "      <th>energy</th>\n",
              "      <th>instrumentalness</th>\n",
              "      <th>liveness</th>\n",
              "      <th>loudness</th>\n",
              "      <th>speechiness</th>\n",
              "      <th>tempo</th>\n",
              "      <th>valence</th>\n",
              "      <th>cluster</th>\n",
              "    </tr>\n",
              "  </thead>\n",
              "  <tbody>\n",
              "    <tr>\n",
              "      <th>0</th>\n",
              "      <td>0.0</td>\n",
              "      <td>0.0</td>\n",
              "      <td>0.0</td>\n",
              "      <td>0.0</td>\n",
              "      <td>0.0</td>\n",
              "      <td>0.0</td>\n",
              "      <td>0.0</td>\n",
              "      <td>0.0</td>\n",
              "      <td>0.0</td>\n",
              "      <td>0.0</td>\n",
              "      <td>0.0</td>\n",
              "      <td>0.0</td>\n",
              "      <td>0.0</td>\n",
              "      <td>0.0</td>\n",
              "      <td>1.0</td>\n",
              "      <td>0.0</td>\n",
              "      <td>0.0</td>\n",
              "      <td>0.0</td>\n",
              "      <td>0.0</td>\n",
              "      <td>0.0</td>\n",
              "      <td>0.0</td>\n",
              "      <td>0.0</td>\n",
              "      <td>0.0</td>\n",
              "      <td>0.0</td>\n",
              "      <td>0.0</td>\n",
              "      <td>0.0</td>\n",
              "      <td>Henri Salvador</td>\n",
              "      <td>C'est beau de faire un Show</td>\n",
              "      <td>-2.261007</td>\n",
              "      <td>0.683376</td>\n",
              "      <td>-0.890935</td>\n",
              "      <td>-1.141368</td>\n",
              "      <td>1.286908</td>\n",
              "      <td>-0.489819</td>\n",
              "      <td>0.660661</td>\n",
              "      <td>1.290703</td>\n",
              "      <td>-0.367970</td>\n",
              "      <td>1.595607</td>\n",
              "      <td>1.380744</td>\n",
              "      <td>3</td>\n",
              "    </tr>\n",
              "    <tr>\n",
              "      <th>1</th>\n",
              "      <td>0.0</td>\n",
              "      <td>0.0</td>\n",
              "      <td>0.0</td>\n",
              "      <td>0.0</td>\n",
              "      <td>0.0</td>\n",
              "      <td>0.0</td>\n",
              "      <td>0.0</td>\n",
              "      <td>0.0</td>\n",
              "      <td>0.0</td>\n",
              "      <td>0.0</td>\n",
              "      <td>0.0</td>\n",
              "      <td>0.0</td>\n",
              "      <td>0.0</td>\n",
              "      <td>0.0</td>\n",
              "      <td>1.0</td>\n",
              "      <td>0.0</td>\n",
              "      <td>0.0</td>\n",
              "      <td>0.0</td>\n",
              "      <td>0.0</td>\n",
              "      <td>0.0</td>\n",
              "      <td>0.0</td>\n",
              "      <td>0.0</td>\n",
              "      <td>0.0</td>\n",
              "      <td>0.0</td>\n",
              "      <td>0.0</td>\n",
              "      <td>0.0</td>\n",
              "      <td>Martin &amp; les fées</td>\n",
              "      <td>Perdu d'avance (par Gad Elmaleh)</td>\n",
              "      <td>-2.206031</td>\n",
              "      <td>-0.345467</td>\n",
              "      <td>0.191994</td>\n",
              "      <td>-0.821867</td>\n",
              "      <td>0.630249</td>\n",
              "      <td>-0.489819</td>\n",
              "      <td>-0.322835</td>\n",
              "      <td>0.668683</td>\n",
              "      <td>-0.183082</td>\n",
              "      <td>1.823253</td>\n",
              "      <td>1.388435</td>\n",
              "      <td>3</td>\n",
              "    </tr>\n",
              "    <tr>\n",
              "      <th>2</th>\n",
              "      <td>0.0</td>\n",
              "      <td>0.0</td>\n",
              "      <td>0.0</td>\n",
              "      <td>0.0</td>\n",
              "      <td>0.0</td>\n",
              "      <td>0.0</td>\n",
              "      <td>0.0</td>\n",
              "      <td>0.0</td>\n",
              "      <td>0.0</td>\n",
              "      <td>0.0</td>\n",
              "      <td>0.0</td>\n",
              "      <td>0.0</td>\n",
              "      <td>0.0</td>\n",
              "      <td>0.0</td>\n",
              "      <td>1.0</td>\n",
              "      <td>0.0</td>\n",
              "      <td>0.0</td>\n",
              "      <td>0.0</td>\n",
              "      <td>0.0</td>\n",
              "      <td>0.0</td>\n",
              "      <td>0.0</td>\n",
              "      <td>0.0</td>\n",
              "      <td>0.0</td>\n",
              "      <td>0.0</td>\n",
              "      <td>0.0</td>\n",
              "      <td>0.0</td>\n",
              "      <td>Joseph Williams</td>\n",
              "      <td>Don't Let Me Be Lonely Tonight</td>\n",
              "      <td>-2.096080</td>\n",
              "      <td>1.644570</td>\n",
              "      <td>0.585296</td>\n",
              "      <td>-0.545298</td>\n",
              "      <td>-1.669954</td>\n",
              "      <td>-0.489819</td>\n",
              "      <td>-0.564927</td>\n",
              "      <td>-0.718402</td>\n",
              "      <td>-0.455832</td>\n",
              "      <td>-0.588326</td>\n",
              "      <td>-0.334212</td>\n",
              "      <td>3</td>\n",
              "    </tr>\n",
              "    <tr>\n",
              "      <th>3</th>\n",
              "      <td>0.0</td>\n",
              "      <td>0.0</td>\n",
              "      <td>0.0</td>\n",
              "      <td>0.0</td>\n",
              "      <td>0.0</td>\n",
              "      <td>0.0</td>\n",
              "      <td>0.0</td>\n",
              "      <td>0.0</td>\n",
              "      <td>0.0</td>\n",
              "      <td>0.0</td>\n",
              "      <td>0.0</td>\n",
              "      <td>0.0</td>\n",
              "      <td>0.0</td>\n",
              "      <td>0.0</td>\n",
              "      <td>1.0</td>\n",
              "      <td>0.0</td>\n",
              "      <td>0.0</td>\n",
              "      <td>0.0</td>\n",
              "      <td>0.0</td>\n",
              "      <td>0.0</td>\n",
              "      <td>0.0</td>\n",
              "      <td>0.0</td>\n",
              "      <td>0.0</td>\n",
              "      <td>0.0</td>\n",
              "      <td>0.0</td>\n",
              "      <td>0.0</td>\n",
              "      <td>Henri Salvador</td>\n",
              "      <td>Dis-moi Monsieur Gordon Cooper</td>\n",
              "      <td>-2.261007</td>\n",
              "      <td>0.942701</td>\n",
              "      <td>-1.693703</td>\n",
              "      <td>-0.695295</td>\n",
              "      <td>-0.929789</td>\n",
              "      <td>-0.489819</td>\n",
              "      <td>-0.587623</td>\n",
              "      <td>-0.434817</td>\n",
              "      <td>-0.438044</td>\n",
              "      <td>1.750597</td>\n",
              "      <td>-0.876384</td>\n",
              "      <td>3</td>\n",
              "    </tr>\n",
              "    <tr>\n",
              "      <th>4</th>\n",
              "      <td>0.0</td>\n",
              "      <td>0.0</td>\n",
              "      <td>0.0</td>\n",
              "      <td>0.0</td>\n",
              "      <td>0.0</td>\n",
              "      <td>0.0</td>\n",
              "      <td>0.0</td>\n",
              "      <td>0.0</td>\n",
              "      <td>0.0</td>\n",
              "      <td>0.0</td>\n",
              "      <td>0.0</td>\n",
              "      <td>0.0</td>\n",
              "      <td>0.0</td>\n",
              "      <td>0.0</td>\n",
              "      <td>1.0</td>\n",
              "      <td>0.0</td>\n",
              "      <td>0.0</td>\n",
              "      <td>0.0</td>\n",
              "      <td>0.0</td>\n",
              "      <td>0.0</td>\n",
              "      <td>0.0</td>\n",
              "      <td>0.0</td>\n",
              "      <td>0.0</td>\n",
              "      <td>0.0</td>\n",
              "      <td>0.0</td>\n",
              "      <td>0.0</td>\n",
              "      <td>Fabien Nataf</td>\n",
              "      <td>Ouverture</td>\n",
              "      <td>-2.041104</td>\n",
              "      <td>1.638932</td>\n",
              "      <td>-1.203422</td>\n",
              "      <td>-1.282184</td>\n",
              "      <td>-1.313157</td>\n",
              "      <td>-0.083566</td>\n",
              "      <td>-0.065613</td>\n",
              "      <td>-1.930601</td>\n",
              "      <td>-0.405163</td>\n",
              "      <td>0.741433</td>\n",
              "      <td>-0.249618</td>\n",
              "      <td>1</td>\n",
              "    </tr>\n",
              "  </tbody>\n",
              "</table>\n",
              "</div>\n",
              "      <button class=\"colab-df-convert\" onclick=\"convertToInteractive('df-65313d6b-0a36-4d1a-b86e-9bc2b025556c')\"\n",
              "              title=\"Convert this dataframe to an interactive table.\"\n",
              "              style=\"display:none;\">\n",
              "        \n",
              "  <svg xmlns=\"http://www.w3.org/2000/svg\" height=\"24px\"viewBox=\"0 0 24 24\"\n",
              "       width=\"24px\">\n",
              "    <path d=\"M0 0h24v24H0V0z\" fill=\"none\"/>\n",
              "    <path d=\"M18.56 5.44l.94 2.06.94-2.06 2.06-.94-2.06-.94-.94-2.06-.94 2.06-2.06.94zm-11 1L8.5 8.5l.94-2.06 2.06-.94-2.06-.94L8.5 2.5l-.94 2.06-2.06.94zm10 10l.94 2.06.94-2.06 2.06-.94-2.06-.94-.94-2.06-.94 2.06-2.06.94z\"/><path d=\"M17.41 7.96l-1.37-1.37c-.4-.4-.92-.59-1.43-.59-.52 0-1.04.2-1.43.59L10.3 9.45l-7.72 7.72c-.78.78-.78 2.05 0 2.83L4 21.41c.39.39.9.59 1.41.59.51 0 1.02-.2 1.41-.59l7.78-7.78 2.81-2.81c.8-.78.8-2.07 0-2.86zM5.41 20L4 18.59l7.72-7.72 1.47 1.35L5.41 20z\"/>\n",
              "  </svg>\n",
              "      </button>\n",
              "      \n",
              "  <style>\n",
              "    .colab-df-container {\n",
              "      display:flex;\n",
              "      flex-wrap:wrap;\n",
              "      gap: 12px;\n",
              "    }\n",
              "\n",
              "    .colab-df-convert {\n",
              "      background-color: #E8F0FE;\n",
              "      border: none;\n",
              "      border-radius: 50%;\n",
              "      cursor: pointer;\n",
              "      display: none;\n",
              "      fill: #1967D2;\n",
              "      height: 32px;\n",
              "      padding: 0 0 0 0;\n",
              "      width: 32px;\n",
              "    }\n",
              "\n",
              "    .colab-df-convert:hover {\n",
              "      background-color: #E2EBFA;\n",
              "      box-shadow: 0px 1px 2px rgba(60, 64, 67, 0.3), 0px 1px 3px 1px rgba(60, 64, 67, 0.15);\n",
              "      fill: #174EA6;\n",
              "    }\n",
              "\n",
              "    [theme=dark] .colab-df-convert {\n",
              "      background-color: #3B4455;\n",
              "      fill: #D2E3FC;\n",
              "    }\n",
              "\n",
              "    [theme=dark] .colab-df-convert:hover {\n",
              "      background-color: #434B5C;\n",
              "      box-shadow: 0px 1px 3px 1px rgba(0, 0, 0, 0.15);\n",
              "      filter: drop-shadow(0px 1px 2px rgba(0, 0, 0, 0.3));\n",
              "      fill: #FFFFFF;\n",
              "    }\n",
              "  </style>\n",
              "\n",
              "      <script>\n",
              "        const buttonEl =\n",
              "          document.querySelector('#df-65313d6b-0a36-4d1a-b86e-9bc2b025556c button.colab-df-convert');\n",
              "        buttonEl.style.display =\n",
              "          google.colab.kernel.accessAllowed ? 'block' : 'none';\n",
              "\n",
              "        async function convertToInteractive(key) {\n",
              "          const element = document.querySelector('#df-65313d6b-0a36-4d1a-b86e-9bc2b025556c');\n",
              "          const dataTable =\n",
              "            await google.colab.kernel.invokeFunction('convertToInteractive',\n",
              "                                                     [key], {});\n",
              "          if (!dataTable) return;\n",
              "\n",
              "          const docLinkHtml = 'Like what you see? Visit the ' +\n",
              "            '<a target=\"_blank\" href=https://colab.research.google.com/notebooks/data_table.ipynb>data table notebook</a>'\n",
              "            + ' to learn more about interactive tables.';\n",
              "          element.innerHTML = '';\n",
              "          dataTable['output_type'] = 'display_data';\n",
              "          await google.colab.output.renderOutput(dataTable, element);\n",
              "          const docLink = document.createElement('div');\n",
              "          docLink.innerHTML = docLinkHtml;\n",
              "          element.appendChild(docLink);\n",
              "        }\n",
              "      </script>\n",
              "    </div>\n",
              "  </div>\n",
              "  "
            ],
            "text/plain": [
              "   Movie  R&B  A Capella  Alternative  ...  speechiness     tempo   valence  cluster\n",
              "0    0.0  0.0        0.0          0.0  ...    -0.367970  1.595607  1.380744        3\n",
              "1    0.0  0.0        0.0          0.0  ...    -0.183082  1.823253  1.388435        3\n",
              "2    0.0  0.0        0.0          0.0  ...    -0.455832 -0.588326 -0.334212        3\n",
              "3    0.0  0.0        0.0          0.0  ...    -0.438044  1.750597 -0.876384        3\n",
              "4    0.0  0.0        0.0          0.0  ...    -0.405163  0.741433 -0.249618        1\n",
              "\n",
              "[5 rows x 40 columns]"
            ]
          },
          "metadata": {},
          "execution_count": 28
        }
      ]
    },
    {
      "cell_type": "markdown",
      "source": [
        "# III. BIRCH\n"
      ],
      "metadata": {
        "id": "1QIKywhprwBR"
      }
    },
    {
      "cell_type": "code",
      "source": [
        "#thêm thư viện\n",
        "from sklearn.cluster import Birch"
      ],
      "metadata": {
        "id": "qjxGmB5BfBDB"
      },
      "execution_count": null,
      "outputs": []
    },
    {
      "cell_type": "code",
      "source": [
        "#copy data full\n",
        "data_3=full_df.copy()\n",
        "#data drop 'track_name', 'artist_name'\n",
        "data_drop_3 = data_3.copy()\n",
        "data_drop_3 = data_drop_3.drop(columns=['artist_name', 'track_name'])\n"
      ],
      "metadata": {
        "id": "QgZw_NdErxYO"
      },
      "execution_count": null,
      "outputs": []
    },
    {
      "cell_type": "markdown",
      "source": [
        "Huấn luyện mô hình\n"
      ],
      "metadata": {
        "id": "zdel226SIcUj"
      }
    },
    {
      "cell_type": "code",
      "source": [
        "birch_clustering = Birch(threshold = 3.0,branching_factor = 200,n_clusters = None )\n",
        "birch_clusters = birch_clustering.fit_predict(data_drop_3)\n",
        "data_3.loc[:, 'cluster'] = birch_clusters"
      ],
      "metadata": {
        "id": "XNDxgo0m0FqA"
      },
      "execution_count": null,
      "outputs": []
    },
    {
      "cell_type": "code",
      "source": [
        "temp=data_3.groupby(['cluster']).size().reset_index(name='quantity')\n",
        "plt.figure(figsize=(19,8))\n",
        "plt.xticks(rotation=45)\n",
        "sns.set_style(\"ticks\")\n",
        "\n",
        "sns.barplot(data = temp, x= 'cluster', y= 'quantity')"
      ],
      "metadata": {
        "colab": {
          "base_uri": "https://localhost:8080/",
          "height": 520
        },
        "id": "EqaPdE9Z2TpF",
        "outputId": "cdbbfa94-5166-4f12-a5c0-836a4042f7c1"
      },
      "execution_count": null,
      "outputs": [
        {
          "output_type": "execute_result",
          "data": {
            "text/plain": [
              "<matplotlib.axes._subplots.AxesSubplot at 0x7f72f11a5b10>"
            ]
          },
          "metadata": {},
          "execution_count": 48
        },
        {
          "output_type": "display_data",
          "data": {
            "image/png": "[encoded data removed]",
            "text/plain": [
              "<Figure size 1368x576 with 1 Axes>"
            ]
          },
          "metadata": {}
        }
      ]
    },
    {
      "cell_type": "markdown",
      "source": [
        "# Hàm đề xuất nhạc"
      ],
      "metadata": {
        "id": "xZkFzgtYgKv_"
      }
    },
    {
      "cell_type": "markdown",
      "source": [
        "Hàm tìm nhạc"
      ],
      "metadata": {
        "id": "YNvhQfC1xpi2"
      }
    },
    {
      "cell_type": "code",
      "source": [
        "# tìm theo tên bài hát và ca sĩ\n",
        "def find_song_1(track, artist, data_):\n",
        "  a=0\n",
        "  b=False\n",
        "  index_song=-1\n",
        "  for i in data_[\"track_name\"]:\n",
        "    if str(artist).lower() in data_[\"artist_name\"][a].lower() and str(track).lower() in i.lower():\n",
        "      index_song=a\n",
        "      print('\\t'+str(index_song)+' -- '+str(i)+' -- '+str(data_[\"artist_name\"][a]))\n",
        "      b=True\n",
        "    a+=1\n",
        "  if b==False:\n",
        "    return 0\n",
        "  else:\n",
        "    return 1\n",
        "# tìm theo tên bài hát\n",
        "def find_song_2(track, data_):\n",
        "  a=0\n",
        "  b=False\n",
        "  index_song=-1\n",
        "  for i in data_[\"track_name\"]:\n",
        "    if str(track).lower() in i.lower():\n",
        "      index_song=a\n",
        "      print('\\t'+str(index_song)+' -- '+str(i)+' -- '+str(data_[\"artist_name\"][a]))\n",
        "      b=True\n",
        "    a+=1\n",
        "  if b==False:\n",
        "    return 0\n",
        "  else:\n",
        "    return 1\n",
        "# tìm theo tên ca sĩ\n",
        "def find_song_3(artist, data_):\n",
        "  a=0\n",
        "  b=False\n",
        "  index_song=-1\n",
        "  for i in data_[\"artist_name\"]:\n",
        "    if str(artist).lower() in i.lower():\n",
        "      index_song=a\n",
        "      print('\\t'+str(index_song)+' -- '+str(i)+' -- '+str(data_[\"track_name\"][a]))\n",
        "      b=True\n",
        "    a+=1\n",
        "  if b==False:\n",
        "    return 0\n",
        "  else:\n",
        "    return 1"
      ],
      "metadata": {
        "id": "I3F6-AujgUd9"
      },
      "execution_count": null,
      "outputs": []
    },
    {
      "cell_type": "markdown",
      "source": [
        "Hàm gợi ý nhạc "
      ],
      "metadata": {
        "id": "IBSQYPe-xupZ"
      }
    },
    {
      "cell_type": "code",
      "source": [
        "#tìm index của track nếu tìm thấy trả về index, ngược lại trả về -1\n",
        "def find_index_song(track, artist, data_):\n",
        "  a=0\n",
        "  b=False\n",
        "  index_song=-1\n",
        "  for i in data_[\"track_name\"]:\n",
        "    if data_[\"artist_name\"][a].lower() == str(artist).lower() and i.lower() == str(track).lower():\n",
        "      index_song=a\n",
        "      b=True\n",
        "      break\n",
        "    a+=1\n",
        "  if b==False:\n",
        "    return -1\n",
        "  else:\n",
        "    return index_song\n",
        "# trả về các bài hát tương tự\n",
        "def recommend_music(track, artist,data_,num_top_song):\n",
        "  temp=find_index_song(track,artist,data_) #index music trong data_\n",
        "  #kiểm tra xem bài hát có tồn tại không\n",
        "  if temp==-1:\n",
        "    #xuất Nothing found nếu bài hát không tồn tại\n",
        "    print(\"Nothing found!\")\n",
        "    return 0\n",
        "  #Nếu tồn tại:\n",
        "  else:\n",
        "    #lấy cluster của track\n",
        "    cluster_ = data_['cluster'].iloc[temp]\n",
        "    #lấy danh sách tất cả các bài nhạc có cùng cluster_\n",
        "    data_clust=data_.copy()\n",
        "    data_clust = data_clust.loc[data_clust.loc[:,'cluster']==cluster_,:]\n",
        "    \n",
        "    #thêm cột similarity score\n",
        "    data_clust.loc[:,'similarity_score']=0\n",
        "    \n",
        "    #tính toán similarity score\n",
        "    data_a = data_.copy().drop(columns=['artist_name','track_name'])\n",
        "    data_b = data_clust.copy().drop(columns=['artist_name','track_name'])\n",
        "    for i in range(len(data_clust)):\n",
        "      a = data_a.iloc[temp,:].values.reshape(1,-1)\n",
        "      b=data_b.iloc[i, :-1].values.reshape(1,-1)\n",
        "      data_clust.loc[:,'similarity_score'].iloc[i] = cosine_similarity(a,b)\n",
        "    #sắp xếp theo similarity score\n",
        "    list_recommened_music= data_clust.sort_values(by='similarity_score', ascending=False).head(num_top_song+1)\n",
        "    #trả về \n",
        "    return list_recommened_music\n",
        "#xuất kết quả\n",
        "def visualize_recommend_music(track, artist,data_,num_top_song):\n",
        "  music = recommend_music(track, artist,data_,num_top_song)\n",
        "  a=True\n",
        "  b=0\n",
        "  \n",
        "  for i in music[\"track_name\"]:\n",
        "    c=0\n",
        "    str_track=i\n",
        "    for j in music[\"artist_name\"]:\n",
        "      if c==b:\n",
        "        d=0\n",
        "        str_artist= j\n",
        "        for k in music[\"similarity_score\"]:\n",
        "          if d==c:\n",
        "            str_sc=k\n",
        "            print('\\t'+str(b)+'. '+str_track+' -- '+str_artist +'-- Similarity_score: '+str(str_sc) )\n",
        "            break\n",
        "          d=d+1\n",
        "        break\n",
        "      c=c+1\n",
        "    b=b+1\n",
        "    if a==True:\n",
        "      print ('\\nSimilar songs:\\n')\n",
        "      a=False"
      ],
      "metadata": {
        "id": "SzG92oqZgZMZ"
      },
      "execution_count": null,
      "outputs": []
    },
    {
      "cell_type": "markdown",
      "source": [
        "# Đề xuất nhạc"
      ],
      "metadata": {
        "id": "Ui-0o_mmx6PJ"
      }
    },
    {
      "cell_type": "markdown",
      "source": [
        "Havana -- Camila Cabello"
      ],
      "metadata": {
        "id": "Ns8f8t5rx4g-"
      }
    },
    {
      "cell_type": "markdown",
      "source": [
        "K-means"
      ],
      "metadata": {
        "id": "xL1Uu0QJyD7M"
      }
    },
    {
      "cell_type": "code",
      "source": [
        "visualize_recommend_music('Havana', 'Camila Cabello',data_1,10)"
      ],
      "metadata": {
        "colab": {
          "base_uri": "https://localhost:8080/"
        },
        "id": "SEN1qShTsYB2",
        "outputId": "614eb769-5d44-458e-ba6c-98c228545bd4"
      },
      "execution_count": null,
      "outputs": [
        {
          "output_type": "stream",
          "name": "stdout",
          "text": [
            "\t0. Havana -- Camila Cabello-- Similarity_score: 0.9999999999999998\n",
            "\n",
            "Similar songs:\n",
            "\n",
            "\t1. The Middle -- Zedd-- Similarity_score: 0.9891165944562652\n",
            "\t2. thank u, next -- Ariana Grande-- Similarity_score: 0.9848380408662974\n",
            "\t3. Can I Be Him -- James Arthur-- Similarity_score: 0.9822786490419635\n",
            "\t4. Now Or Never -- Halsey-- Similarity_score: 0.9814994529279225\n",
            "\t5. I Miss You (feat. Julia Michaels) -- Clean Bandit-- Similarity_score: 0.9807451277795923\n",
            "\t6. Most Girls -- Hailee Steinfeld-- Similarity_score: 0.9803878570485808\n",
            "\t7. Symphony (feat. Zara Larsson) -- Clean Bandit-- Similarity_score: 0.9796145058673689\n",
            "\t8. sweetener -- Ariana Grande-- Similarity_score: 0.9779369861348202\n",
            "\t9. Strip That Down -- Liam Payne-- Similarity_score: 0.9750939155263725\n",
            "\t10. Gasoline -- Halsey-- Similarity_score: 0.9748197976871608\n"
          ]
        }
      ]
    },
    {
      "cell_type": "code",
      "source": [
        "len(data)"
      ],
      "metadata": {
        "id": "8o-wtzVTlwru",
        "outputId": "bbeb617a-9f2a-4f86-9a6f-8ed0c4d8b597",
        "colab": {
          "base_uri": "https://localhost:8080/",
          "height": 171
        }
      },
      "execution_count": null,
      "outputs": [
        {
          "output_type": "error",
          "ename": "NameError",
          "evalue": "ignored",
          "traceback": [
            "\u001b[0;31m---------------------------------------------------------------------------\u001b[0m",
            "\u001b[0;31mNameError\u001b[0m                                 Traceback (most recent call last)",
            "\u001b[0;32m<ipython-input-1-c6201f8cef64>\u001b[0m in \u001b[0;36m<module>\u001b[0;34m()\u001b[0m\n\u001b[0;32m----> 1\u001b[0;31m \u001b[0mlen\u001b[0m\u001b[0;34m(\u001b[0m\u001b[0mdata\u001b[0m\u001b[0;34m)\u001b[0m\u001b[0;34m\u001b[0m\u001b[0;34m\u001b[0m\u001b[0m\n\u001b[0m",
            "\u001b[0;31mNameError\u001b[0m: name 'data' is not defined"
          ]
        }
      ]
    },
    {
      "cell_type": "markdown",
      "source": [
        "GMM"
      ],
      "metadata": {
        "id": "sY2xf6k-yHYZ"
      }
    },
    {
      "cell_type": "code",
      "source": [
        "visualize_recommend_music('Havana', 'Camila Cabello',data_2,10)"
      ],
      "metadata": {
        "colab": {
          "base_uri": "https://localhost:8080/"
        },
        "id": "KiTxtYxgsYuf",
        "outputId": "ca11f414-c575-4d1c-92df-5100fb4da1bd"
      },
      "execution_count": null,
      "outputs": [
        {
          "output_type": "stream",
          "name": "stdout",
          "text": [
            "\t0. Havana -- Camila Cabello-- Similarity_score: 1.0\n",
            "\n",
            "Similar songs:\n",
            "\n",
            "\t1. The Middle -- Zedd-- Similarity_score: 0.9953679137599837\n",
            "\t2. thank u, next -- Ariana Grande-- Similarity_score: 0.9933747478652799\n",
            "\t3. Can I Be Him -- James Arthur-- Similarity_score: 0.9916430379303841\n",
            "\t4. Most Girls -- Hailee Steinfeld-- Similarity_score: 0.9915346277168483\n",
            "\t5. I Miss You (feat. Julia Michaels) -- Clean Bandit-- Similarity_score: 0.9915253419907493\n",
            "\t6. Now Or Never -- Halsey-- Similarity_score: 0.9911958866789092\n",
            "\t7. Stay (with Alessia Cara) -- Zedd-- Similarity_score: 0.9911169138682211\n",
            "\t8. IDGAF -- Dua Lipa-- Similarity_score: 0.9910562000039139\n",
            "\t9. Symphony (feat. Zara Larsson) -- Clean Bandit-- Similarity_score: 0.9909582153967166\n",
            "\t10. Starving -- Hailee Steinfeld-- Similarity_score: 0.9901138541158355\n"
          ]
        }
      ]
    },
    {
      "cell_type": "markdown",
      "source": [
        "BIRCH"
      ],
      "metadata": {
        "id": "Fq7jFnSPyJTj"
      }
    },
    {
      "cell_type": "code",
      "source": [
        "visualize_recommend_music('Havana', 'Camila Cabello',data_3,10)"
      ],
      "metadata": {
        "colab": {
          "base_uri": "https://localhost:8080/"
        },
        "id": "mLuhfjhAsZGB",
        "outputId": "84cd01a6-9be6-4bbc-a702-c107754eacdd"
      },
      "execution_count": null,
      "outputs": [
        {
          "output_type": "stream",
          "name": "stdout",
          "text": [
            "\t0. Havana -- Camila Cabello-- Similarity_score: 0.9999999999999999\n",
            "\n",
            "Similar songs:\n",
            "\n",
            "\t1. The Middle -- Zedd-- Similarity_score: 0.9976334469969484\n",
            "\t2. thank u, next -- Ariana Grande-- Similarity_score: 0.9965822111835994\n",
            "\t3. Can I Be Him -- James Arthur-- Similarity_score: 0.9956078315401348\n",
            "\t4. Stay (with Alessia Cara) -- Zedd-- Similarity_score: 0.9954297323734567\n",
            "\t5. IDGAF -- Dua Lipa-- Similarity_score: 0.9954015480118671\n",
            "\t6. Now Or Never -- Halsey-- Similarity_score: 0.9953636434488664\n",
            "\t7. Symphony (feat. Zara Larsson) -- Clean Bandit-- Similarity_score: 0.9953246038867636\n",
            "\t8. Starving -- Hailee Steinfeld-- Similarity_score: 0.9949519691055098\n",
            "\t9. sweetener -- Ariana Grande-- Similarity_score: 0.9947732293227298\n",
            "\t10. Strip That Down -- Liam Payne-- Similarity_score: 0.9946300246957076\n"
          ]
        }
      ]
    },
    {
      "cell_type": "markdown",
      "source": [
        "Shape of You - Acoustic -- Ed Sheeran"
      ],
      "metadata": {
        "id": "OyU0vv44yNx5"
      }
    },
    {
      "cell_type": "markdown",
      "source": [
        "K-means"
      ],
      "metadata": {
        "id": "0Z70iTHMyQh9"
      }
    },
    {
      "cell_type": "code",
      "source": [
        "visualize_recommend_music('Shape of You - Acoustic', 'Ed Sheeran',data_1,10)"
      ],
      "metadata": {
        "colab": {
          "base_uri": "https://localhost:8080/"
        },
        "id": "-4T65qOruRZe",
        "outputId": "9ba3bc28-20da-4f96-b213-3b22a761ed8a"
      },
      "execution_count": null,
      "outputs": [
        {
          "output_type": "stream",
          "name": "stdout",
          "text": [
            "\t0. Shape of You - Acoustic -- Ed Sheeran-- Similarity_score: 0.9999999999999997\n",
            "\n",
            "Similar songs:\n",
            "\n",
            "\t1. Mi 45 -- El Fantasma-- Similarity_score: 0.9965318033525087\n",
            "\t2. Bella - Remix -- Wolfine-- Similarity_score: 0.9962271374475209\n",
            "\t3. Frontin' (feat. Jay-Z) - Club Mix -- Pharrell Williams-- Similarity_score: 0.9962161682586789\n",
            "\t4. Follow Me -- Uncle Kracker-- Similarity_score: 0.9959584051212456\n",
            "\t5. Quiero -- Joss Favela-- Similarity_score: 0.9955222074903257\n",
            "\t6. While You Count Sheep -- Jon Bellion-- Similarity_score: 0.9954694225933114\n",
            "\t7. Fallin' All In You -- Shawn Mendes-- Similarity_score: 0.9954059836014023\n",
            "\t8. Because Of You -- Ne-Yo-- Similarity_score: 0.9951546300518664\n",
            "\t9. Quién Te Entiende -- Crecer German-- Similarity_score: 0.99412503299043\n",
            "\t10. My Favorite Part -- Mac Miller-- Similarity_score: 0.9940706913219224\n"
          ]
        }
      ]
    },
    {
      "cell_type": "markdown",
      "source": [
        "GMM"
      ],
      "metadata": {
        "id": "Zy58G3uiySRa"
      }
    },
    {
      "cell_type": "code",
      "source": [
        "visualize_recommend_music('Shape of You - Acoustic', 'Ed Sheeran',data_2,10)"
      ],
      "metadata": {
        "colab": {
          "base_uri": "https://localhost:8080/"
        },
        "id": "RojeE1hMuSG6",
        "outputId": "a83562f5-1b1f-4b7e-d7c0-20afdbba063f"
      },
      "execution_count": null,
      "outputs": [
        {
          "output_type": "stream",
          "name": "stdout",
          "text": [
            "\t0. Shape of You - Acoustic -- Ed Sheeran-- Similarity_score: 1.0000000000000002\n",
            "\n",
            "Similar songs:\n",
            "\n",
            "\t1. Mi 45 -- El Fantasma-- Similarity_score: 0.9932539918797957\n",
            "\t2. Bella - Remix -- Wolfine-- Similarity_score: 0.9926841272438959\n",
            "\t3. Frontin' (feat. Jay-Z) - Club Mix -- Pharrell Williams-- Similarity_score: 0.9926524942134473\n",
            "\t4. Follow Me -- Uncle Kracker-- Similarity_score: 0.9921015678195069\n",
            "\t5. While You Count Sheep -- Jon Bellion-- Similarity_score: 0.9914772420944561\n",
            "\t6. Quiero -- Joss Favela-- Similarity_score: 0.991420168291005\n",
            "\t7. Fallin' All In You -- Shawn Mendes-- Similarity_score: 0.9910563251144725\n",
            "\t8. Because Of You -- Ne-Yo-- Similarity_score: 0.9905529442513523\n",
            "\t9. Quién Te Entiende -- Crecer German-- Similarity_score: 0.9885240158900894\n",
            "\t10. My Favorite Part -- Mac Miller-- Similarity_score: 0.9884109081804591\n"
          ]
        }
      ]
    },
    {
      "cell_type": "markdown",
      "source": [
        "BIRCH"
      ],
      "metadata": {
        "id": "SYF88ObFyUBp"
      }
    },
    {
      "cell_type": "code",
      "source": [
        "visualize_recommend_music('Shape of You - Acoustic', 'Ed Sheeran',data_3,10)"
      ],
      "metadata": {
        "colab": {
          "base_uri": "https://localhost:8080/"
        },
        "id": "1AGx0RSxuSbr",
        "outputId": "ed82fecc-dfa6-4f65-e9d1-a68c6359da37"
      },
      "execution_count": null,
      "outputs": [
        {
          "output_type": "stream",
          "name": "stdout",
          "text": [
            "\t0. Shape of You - Acoustic -- Ed Sheeran-- Similarity_score: 0.9999999999999997\n",
            "\n",
            "Similar songs:\n",
            "\n",
            "\t1. Mi 45 -- El Fantasma-- Similarity_score: 0.9965318033525087\n",
            "\t2. Bella - Remix -- Wolfine-- Similarity_score: 0.9962271374475209\n",
            "\t3. Frontin' (feat. Jay-Z) - Club Mix -- Pharrell Williams-- Similarity_score: 0.9962161682586789\n",
            "\t4. Follow Me -- Uncle Kracker-- Similarity_score: 0.9959584051212456\n",
            "\t5. Fallin' All In You -- Shawn Mendes-- Similarity_score: 0.9954059836014023\n",
            "\t6. Because Of You -- Ne-Yo-- Similarity_score: 0.9951546300518664\n",
            "\t7. Me & U -- Cassie-- Similarity_score: 0.9940390683263053\n",
            "\t8. That's How You Know (feat. Kid Ink & Bebe Rexha) -- Nico & Vinz-- Similarity_score: 0.993748299981799\n",
            "\t9. Fresh Eyes -- Andy Grammer-- Similarity_score: 0.9936704063748215\n",
            "\t10. Vengo a Aclarar (En Vivo) -- El Fantasma-- Similarity_score: 0.9936066443420459\n"
          ]
        }
      ]
    },
    {
      "cell_type": "markdown",
      "source": [
        "SICKO MODE -- Travis Scott"
      ],
      "metadata": {
        "id": "4A0gnTfH1u97"
      }
    },
    {
      "cell_type": "markdown",
      "source": [
        "K-means"
      ],
      "metadata": {
        "id": "vjakR8FA1x_7"
      }
    },
    {
      "cell_type": "code",
      "source": [
        "visualize_recommend_music('SICKO MODE','Travis Scott',data_1,10)"
      ],
      "metadata": {
        "colab": {
          "base_uri": "https://localhost:8080/"
        },
        "id": "0E4tnp7R1sHX",
        "outputId": "87249ddc-d07e-4683-e284-677bfdd07eac"
      },
      "execution_count": null,
      "outputs": [
        {
          "output_type": "stream",
          "name": "stdout",
          "text": [
            "\t0. SICKO MODE -- Travis Scott-- Similarity_score: 0.9999999999999999\n",
            "\n",
            "Similar songs:\n",
            "\n",
            "\t1. Walk It Talk It -- Migos-- Similarity_score: 0.98267751588855\n",
            "\t2. Wasted (feat. Lil Uzi Vert) -- Juice WRLD-- Similarity_score: 0.9779989994610375\n",
            "\t3. Lucky You (feat. Joyner Lucas) -- Eminem-- Similarity_score: 0.9776894151657167\n",
            "\t4. I Get The Bag (feat. Migos) -- Gucci Mane-- Similarity_score: 0.9679612076667595\n",
            "\t5. SICKO MODE - Skrillex Remix -- Travis Scott-- Similarity_score: 0.9678262616393658\n",
            "\t6. No Limit -- G-Eazy-- Similarity_score: 0.9672865805265809\n",
            "\t7. MAMA (feat. Nicki Minaj, Kanye West) -- 6ix9ine-- Similarity_score: 0.9649909452674863\n",
            "\t8. Codeine Dreaming (feat. Lil Wayne) -- Kodak Black-- Similarity_score: 0.9644592143853921\n",
            "\t9. Black Beatles -- Rae Sremmurd-- Similarity_score: 0.9631171081640051\n",
            "\t10. XO TOUR Llif3 -- Lil Uzi Vert-- Similarity_score: 0.9630754181543173\n"
          ]
        }
      ]
    },
    {
      "cell_type": "markdown",
      "source": [
        "GMM"
      ],
      "metadata": {
        "id": "5mNF1LsN10vs"
      }
    },
    {
      "cell_type": "code",
      "source": [
        "visualize_recommend_music('SICKO MODE','Travis Scott',data_2,10)"
      ],
      "metadata": {
        "colab": {
          "base_uri": "https://localhost:8080/"
        },
        "id": "fQ2VzSpD1ss4",
        "outputId": "9e4723e1-9e2d-4359-ab9a-3cccca6728d2"
      },
      "execution_count": null,
      "outputs": [
        {
          "output_type": "stream",
          "name": "stdout",
          "text": [
            "\t0. SICKO MODE -- Travis Scott-- Similarity_score: 1.0000000000000002\n",
            "\n",
            "Similar songs:\n",
            "\n",
            "\t1. Walk It Talk It -- Migos-- Similarity_score: 0.988955909934553\n",
            "\t2. Lucky You (feat. Joyner Lucas) -- Eminem-- Similarity_score: 0.9862917574932143\n",
            "\t3. Wasted (feat. Lil Uzi Vert) -- Juice WRLD-- Similarity_score: 0.9846170870290183\n",
            "\t4. No Limit -- G-Eazy-- Similarity_score: 0.9799528146877393\n",
            "\t5. I Get The Bag (feat. Migos) -- Gucci Mane-- Similarity_score: 0.9794683622179551\n",
            "\t6. SICKO MODE - Skrillex Remix -- Travis Scott-- Similarity_score: 0.9793217521071279\n",
            "\t7. MAMA (feat. Nicki Minaj, Kanye West) -- 6ix9ine-- Similarity_score: 0.977500268766424\n",
            "\t8. XO TOUR Llif3 -- Lil Uzi Vert-- Similarity_score: 0.9770487411060803\n",
            "\t9. No Stylist -- French Montana-- Similarity_score: 0.9769576119141627\n",
            "\t10. Powerglide (feat. Juicy J) - From SR3MM -- Rae Sremmurd-- Similarity_score: 0.9764238342098296\n"
          ]
        }
      ]
    },
    {
      "cell_type": "markdown",
      "source": [
        "BIRCH"
      ],
      "metadata": {
        "id": "VXnI8iPi1195"
      }
    },
    {
      "cell_type": "code",
      "source": [
        "visualize_recommend_music('SICKO MODE','Travis Scott',data_3,10)"
      ],
      "metadata": {
        "colab": {
          "base_uri": "https://localhost:8080/"
        },
        "id": "RYz10iDl1tBV",
        "outputId": "f718a423-1922-44dd-c8c9-3cfb22d11bd7"
      },
      "execution_count": null,
      "outputs": [
        {
          "output_type": "stream",
          "name": "stdout",
          "text": [
            "\t0. SICKO MODE -- Travis Scott-- Similarity_score: 1.0000000000000002\n",
            "\n",
            "Similar songs:\n",
            "\n",
            "\t1. Walk It Talk It -- Migos-- Similarity_score: 0.9996710056515051\n",
            "\t2. Lucky You (feat. Joyner Lucas) -- Eminem-- Similarity_score: 0.9996105196613255\n",
            "\t3. Wasted (feat. Lil Uzi Vert) -- Juice WRLD-- Similarity_score: 0.9995021175472485\n",
            "\t4. No Limit -- G-Eazy-- Similarity_score: 0.9994326497508224\n",
            "\t5. I Get The Bag (feat. Migos) -- Gucci Mane-- Similarity_score: 0.9993881937201776\n",
            "\t6. SICKO MODE - Skrillex Remix -- Travis Scott-- Similarity_score: 0.9993820739760885\n",
            "\t7. XO TOUR Llif3 -- Lil Uzi Vert-- Similarity_score: 0.999338960683011\n",
            "\t8. No Stylist -- French Montana-- Similarity_score: 0.9993335732530327\n",
            "\t9. Powerglide (feat. Juicy J) - From SR3MM -- Rae Sremmurd-- Similarity_score: 0.9993325804953654\n",
            "\t10. MAMA (feat. Nicki Minaj, Kanye West) -- 6ix9ine-- Similarity_score: 0.9993284063333707\n"
          ]
        }
      ]
    }
  ],
  "metadata": {
    "colab": {
      "collapsed_sections": [
        "gv0bvC3y8QDH",
        "MpIdIb4i8YHc",
        "HIuG_pM683X3",
        "lxUhi0eYw8b2",
        "cl62Sc4mtdAe",
        "7V6Lx9gm-BLT",
        "1QIKywhprwBR",
        "xZkFzgtYgKv_",
        "Ui-0o_mmx6PJ"
      ],
      "provenance": []
    },
    "kernelspec": {
      "display_name": "Python 3",
      "name": "python3"
    },
    "language_info": {
      "name": "python"
    }
  },
  "nbformat": 4,
  "nbformat_minor": 0
}